{
 "cells": [
  {
   "cell_type": "code",
   "execution_count": 10,
   "metadata": {},
   "outputs": [
    {
     "name": "stdout",
     "output_type": "stream",
     "text": [
      "Financial Analysis\n",
      "-------------------------------\n",
      "Total Months: 86\n",
      "Total: $ 38382578\n",
      "Average Change: $ 446309.0465116279\n",
      "Greatest Increase in Profits:\n",
      "Greatest Decrease in Profits:\n"
     ]
    }
   ],
   "source": [
    "import os\n",
    "import csv\n",
    "\n",
    "budget_csv = os.path.join(\"/Users/erenturkmenoglu/Desktop/homework_02-Python_Instructions_PyBank.csv\")\n",
    "\n",
    "with open(budget_csv, 'r') as csvfile:\n",
    "    csvreader = csv.DictReader(csvfile, delimiter=\",\")\n",
    "    totals = []\n",
    "    for row_count, row in enumerate(csvreader, start=1):\n",
    "        value = int(row['Profit/Losses'])\n",
    "        totals.append(value)\n",
    "#max = max(csvreader, key=lambda column: int(column[2].replace(',','')))\n",
    "#min = min(csvreader, key=lambda column: int(column[2].replace(',','')))\n",
    "#max_value = max(csvreader, key = lambda row:int(row[2]))\n",
    "\n",
    "print (\"Financial Analysis\")\n",
    "print (\"-------------------------------\")\n",
    "print (\"Total Months: {}\".format(row_count))\n",
    "print (\"Total: $ {}\".format(sum(totals)))\n",
    "print (\"Average Change: $ {}\".format(sum(totals)/row_count))\n",
    "print (\"Greatest Increase in Profits:\")\n",
    "print (\"Greatest Decrease in Profits:\")\n",
    "#print (\"Greatest Increase in Profits: {}\".format(max_value))\n",
    "#print (\"Greatest Decrease in Profits: {}\".format(int(min)))\n",
    "\n",
    "\n",
    "\n",
    "output_file = os.path.join(\"Analysis.txt\")\n",
    "\n",
    "#  Open the output file\n",
    "with open(output_file, \"w\") as text_file:\n",
    "    text_file.write (\"Financial Analysis\\n\")\n",
    "    text_file.write (\"-------------------------------\\n\")\n",
    "    text_file.write (\"Total Months: {}\\n\".format(row_count))\n",
    "    text_file.write (\"Total: $ {}\".format(sum(totals)))"
   ]
  },
  {
   "cell_type": "code",
   "execution_count": null,
   "metadata": {},
   "outputs": [],
   "source": []
  }
 ],
 "metadata": {
  "kernelspec": {
   "display_name": "Python 3",
   "language": "python",
   "name": "python3"
  },
  "language_info": {
   "codemirror_mode": {
    "name": "ipython",
    "version": 3
   },
   "file_extension": ".py",
   "mimetype": "text/x-python",
   "name": "python",
   "nbconvert_exporter": "python",
   "pygments_lexer": "ipython3",
   "version": "3.7.4"
  }
 },
 "nbformat": 4,
 "nbformat_minor": 4
}
