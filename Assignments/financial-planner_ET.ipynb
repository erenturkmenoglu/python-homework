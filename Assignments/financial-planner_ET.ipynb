{
 "cells": [
  {
   "cell_type": "markdown",
   "metadata": {},
   "source": [
    "# Unit 5 - Financial Planning\n"
   ]
  },
  {
   "cell_type": "code",
   "execution_count": 1,
   "metadata": {},
   "outputs": [],
   "source": [
    "# Initial imports\n",
    "import os\n",
    "import requests\n",
    "import pandas as pd\n",
    "from dotenv import load_dotenv\n",
    "import alpaca_trade_api as tradeapi\n",
    "from MCForecastTools import MCSimulation\n",
    "import json\n",
    "\n",
    "%matplotlib inline"
   ]
  },
  {
   "cell_type": "code",
   "execution_count": 2,
   "metadata": {},
   "outputs": [
    {
     "data": {
      "text/plain": [
       "True"
      ]
     },
     "execution_count": 2,
     "metadata": {},
     "output_type": "execute_result"
    }
   ],
   "source": [
    "# Load .env enviroment variables\n",
    "load_dotenv()"
   ]
  },
  {
   "cell_type": "markdown",
   "metadata": {},
   "source": [
    "## Part 1 - Personal Finance Planner"
   ]
  },
  {
   "cell_type": "code",
   "execution_count": 3,
   "metadata": {},
   "outputs": [],
   "source": [
    "# Set monthly household income\n",
    "# YOUR CODE HERE!\n",
    "monthly_income = 12000"
   ]
  },
  {
   "cell_type": "markdown",
   "metadata": {},
   "source": [
    "### Collect Crypto Prices Using the `requests` Library"
   ]
  },
  {
   "cell_type": "code",
   "execution_count": 4,
   "metadata": {},
   "outputs": [],
   "source": [
    "# Current amount of crypto assets\n",
    "my_btc = 1.2\n",
    "my_eth = 5.3"
   ]
  },
  {
   "cell_type": "code",
   "execution_count": 5,
   "metadata": {},
   "outputs": [],
   "source": [
    "# Crypto API URLs\n",
    "btc_url = \"https://api.alternative.me/v2/ticker/Bitcoin/?convert=USD\"\n",
    "eth_url = \"https://api.alternative.me/v2/ticker/Ethereum/?convert=USD\""
   ]
  },
  {
   "cell_type": "code",
   "execution_count": 6,
   "metadata": {},
   "outputs": [
    {
     "name": "stdout",
     "output_type": "stream",
     "text": [
      "<Response [200]>\n"
     ]
    }
   ],
   "source": [
    "# Fetch current BTC price\n",
    "# YOUR CODE HERE!\n",
    "btc = requests.get(btc_url, headers={'Accept': 'application/json'})\n",
    "print(btc)"
   ]
  },
  {
   "cell_type": "code",
   "execution_count": 7,
   "metadata": {},
   "outputs": [
    {
     "data": {
      "text/plain": [
       "{'data': {'1': {'id': 1,\n",
       "   'name': 'Bitcoin',\n",
       "   'symbol': 'BTC',\n",
       "   'website_slug': 'bitcoin',\n",
       "   'rank': 1,\n",
       "   'circulating_supply': 18496356,\n",
       "   'total_supply': 18496356,\n",
       "   'max_supply': 21000000,\n",
       "   'quotes': {'USD': {'price': 10511.14,\n",
       "     'volume_24h': 23931620915,\n",
       "     'market_cap': 194779245610,\n",
       "     'percentage_change_1h': 0.0796917558598485,\n",
       "     'percentage_change_24h': -3.17118385932138,\n",
       "     'percentage_change_7d': 1.76469906568856,\n",
       "     'percent_change_1h': 0.0796917558598485,\n",
       "     'percent_change_24h': -3.17118385932138,\n",
       "     'percent_change_7d': 1.76469906568856}},\n",
       "   'last_updated': 1600726177}},\n",
       " 'metadata': {'timestamp': 1600726177,\n",
       "  'num_cryptocurrencies': 1460,\n",
       "  'error': None}}"
      ]
     },
     "execution_count": 7,
     "metadata": {},
     "output_type": "execute_result"
    }
   ],
   "source": [
    "# Show BTC data\n",
    "btc_data = btc.json()\n",
    "btc_data"
   ]
  },
  {
   "cell_type": "code",
   "execution_count": 8,
   "metadata": {},
   "outputs": [
    {
     "data": {
      "text/plain": [
       "{'price': 10511.14,\n",
       " 'volume_24h': 23931620915,\n",
       " 'market_cap': 194779245610,\n",
       " 'percentage_change_1h': 0.0796917558598485,\n",
       " 'percentage_change_24h': -3.17118385932138,\n",
       " 'percentage_change_7d': 1.76469906568856,\n",
       " 'percent_change_1h': 0.0796917558598485,\n",
       " 'percent_change_24h': -3.17118385932138,\n",
       " 'percent_change_7d': 1.76469906568856}"
      ]
     },
     "execution_count": 8,
     "metadata": {},
     "output_type": "execute_result"
    }
   ],
   "source": [
    "# Assign variables to BTC data\n",
    "btc_name = btc.json()['data']['1']['name']\n",
    "btc_price = btc.json()['data']['1']['quotes']['USD']['price']\n",
    "btc_description = btc.json()['data']['1']['quotes']['USD']\n",
    "btc_description"
   ]
  },
  {
   "cell_type": "code",
   "execution_count": 9,
   "metadata": {},
   "outputs": [
    {
     "name": "stdout",
     "output_type": "stream",
     "text": [
      "1 Bitcoin is worth 10511.14.\n"
     ]
    }
   ],
   "source": [
    "print(f'1 {btc_name} is worth {btc_price}.')"
   ]
  },
  {
   "cell_type": "code",
   "execution_count": 10,
   "metadata": {},
   "outputs": [
    {
     "name": "stdout",
     "output_type": "stream",
     "text": [
      "<Response [200]>\n"
     ]
    }
   ],
   "source": [
    "# Fetch current ETH price\n",
    "# YOUR CODE HERE!\n",
    "eth = requests.get(eth_url, headers={'Accept': 'application/json'})\n",
    "print(eth)"
   ]
  },
  {
   "cell_type": "code",
   "execution_count": 11,
   "metadata": {},
   "outputs": [
    {
     "data": {
      "text/plain": [
       "{'data': {'1027': {'id': 1027,\n",
       "   'name': 'Ethereum',\n",
       "   'symbol': 'ETH',\n",
       "   'website_slug': 'ethereum',\n",
       "   'rank': 2,\n",
       "   'circulating_supply': 112699131,\n",
       "   'total_supply': 112699131,\n",
       "   'max_supply': 0,\n",
       "   'quotes': {'USD': {'price': 348.29,\n",
       "     'volume_24h': 13010982310,\n",
       "     'market_cap': 39340475623,\n",
       "     'percentage_change_1h': 0.221644474584871,\n",
       "     'percentage_change_24h': -5.72510674404226,\n",
       "     'percentage_change_7d': -4.75889876772829,\n",
       "     'percent_change_1h': 0.221644474584871,\n",
       "     'percent_change_24h': -5.72510674404226,\n",
       "     'percent_change_7d': -4.75889876772829}},\n",
       "   'last_updated': 1600726142}},\n",
       " 'metadata': {'timestamp': 1600726142,\n",
       "  'num_cryptocurrencies': 1460,\n",
       "  'error': None}}"
      ]
     },
     "execution_count": 11,
     "metadata": {},
     "output_type": "execute_result"
    }
   ],
   "source": [
    "# Show ETH data\n",
    "eth_data = eth.json()\n",
    "eth_data"
   ]
  },
  {
   "cell_type": "code",
   "execution_count": 12,
   "metadata": {},
   "outputs": [
    {
     "data": {
      "text/plain": [
       "{'price': 10511.14,\n",
       " 'volume_24h': 23931620915,\n",
       " 'market_cap': 194779245610,\n",
       " 'percentage_change_1h': 0.0796917558598485,\n",
       " 'percentage_change_24h': -3.17118385932138,\n",
       " 'percentage_change_7d': 1.76469906568856,\n",
       " 'percent_change_1h': 0.0796917558598485,\n",
       " 'percent_change_24h': -3.17118385932138,\n",
       " 'percent_change_7d': 1.76469906568856}"
      ]
     },
     "execution_count": 12,
     "metadata": {},
     "output_type": "execute_result"
    }
   ],
   "source": [
    "# Assign variables to ETH data\n",
    "eth_name = eth.json()['data']['1027']['name']\n",
    "eth_price = eth.json()['data']['1027']['quotes']['USD']['price']\n",
    "eth_description = eth.json()['data']['1027']\n",
    "btc_description"
   ]
  },
  {
   "cell_type": "code",
   "execution_count": 13,
   "metadata": {},
   "outputs": [
    {
     "name": "stdout",
     "output_type": "stream",
     "text": [
      "1 Ethereum is worth 348.29.\n"
     ]
    }
   ],
   "source": [
    "print(f'1 {eth_name} is worth {eth_price}.')"
   ]
  },
  {
   "cell_type": "code",
   "execution_count": 14,
   "metadata": {
    "jupyter": {
     "source_hidden": true
    }
   },
   "outputs": [],
   "source": [
    "#response_content = btc_value.content()\n",
    "#btc_data = btc_value.json()\n",
    "#print(json.dumps(btc_data, indent=4))"
   ]
  },
  {
   "cell_type": "code",
   "execution_count": 15,
   "metadata": {},
   "outputs": [
    {
     "name": "stdout",
     "output_type": "stream",
     "text": [
      "Total Value of my 1.2 Bitcoin is $12613.37 dollars.\n",
      "Total Value of my 5.3 Ethereum is $1845.94 dollars.\n",
      "Total Value of my portfolio is $14459.30 dollars.\n"
     ]
    }
   ],
   "source": [
    "# Compute current value of my crpto\n",
    "# YOUR CODE 'HERE!\n",
    "my_btc_value = btc_price * my_btc\n",
    "my_eth_value = eth_price * my_eth\n",
    "print(f'Total Value of my {my_btc} {btc_name} is ${my_btc_value:0.2f} dollars.')\n",
    "print(f'Total Value of my {my_eth} {eth_name} is ${my_eth_value:0.2f} dollars.')\n",
    "print(f'Total Value of my portfolio is ${my_btc_value + my_eth_value:0.2f} dollars.')"
   ]
  },
  {
   "cell_type": "markdown",
   "metadata": {},
   "source": [
    "### Collect Investments Data Using Alpaca: `SPY` (stocks) and `AGG` (bonds)"
   ]
  },
  {
   "cell_type": "code",
   "execution_count": 16,
   "metadata": {},
   "outputs": [],
   "source": [
    "# Current amount of shares\n",
    "my_agg = 200\n",
    "my_spy = 50"
   ]
  },
  {
   "cell_type": "code",
   "execution_count": 17,
   "metadata": {},
   "outputs": [],
   "source": [
    "# Set Alpaca API key and secret\n",
    "# YOUR CODE HERE!\n",
    "alpaca_api_key = os.getenv(\"ALPACA_KEY_ID\")\n",
    "alpaca_secret_key = os.getenv(\"ALPACA_SECRET_KEY\")\n",
    "\n",
    "# Create the Alpaca API object\n",
    "# YOUR CODE HERE!\n",
    "api = tradeapi.REST(\n",
    "    alpaca_api_key,\n",
    "    alpaca_secret_key,\n",
    "    api_version = \"v2\"\n",
    ")"
   ]
  },
  {
   "cell_type": "code",
   "execution_count": 18,
   "metadata": {},
   "outputs": [
    {
     "data": {
      "text/html": [
       "<div>\n",
       "<style scoped>\n",
       "    .dataframe tbody tr th:only-of-type {\n",
       "        vertical-align: middle;\n",
       "    }\n",
       "\n",
       "    .dataframe tbody tr th {\n",
       "        vertical-align: top;\n",
       "    }\n",
       "\n",
       "    .dataframe thead tr th {\n",
       "        text-align: left;\n",
       "    }\n",
       "</style>\n",
       "<table border=\"1\" class=\"dataframe\">\n",
       "  <thead>\n",
       "    <tr>\n",
       "      <th></th>\n",
       "      <th colspan=\"5\" halign=\"left\">AGG</th>\n",
       "      <th colspan=\"5\" halign=\"left\">SPY</th>\n",
       "    </tr>\n",
       "    <tr>\n",
       "      <th></th>\n",
       "      <th>open</th>\n",
       "      <th>high</th>\n",
       "      <th>low</th>\n",
       "      <th>close</th>\n",
       "      <th>volume</th>\n",
       "      <th>open</th>\n",
       "      <th>high</th>\n",
       "      <th>low</th>\n",
       "      <th>close</th>\n",
       "      <th>volume</th>\n",
       "    </tr>\n",
       "  </thead>\n",
       "  <tbody>\n",
       "    <tr>\n",
       "      <th>2019-01-02 00:00:00-05:00</th>\n",
       "      <td>106.55</td>\n",
       "      <td>106.610</td>\n",
       "      <td>106.4701</td>\n",
       "      <td>106.585</td>\n",
       "      <td>10164756</td>\n",
       "      <td>245.98</td>\n",
       "      <td>251.21</td>\n",
       "      <td>245.95</td>\n",
       "      <td>249.89</td>\n",
       "      <td>107236613</td>\n",
       "    </tr>\n",
       "    <tr>\n",
       "      <th>2019-01-03 00:00:00-05:00</th>\n",
       "      <td>106.57</td>\n",
       "      <td>107.075</td>\n",
       "      <td>106.5700</td>\n",
       "      <td>107.020</td>\n",
       "      <td>6260265</td>\n",
       "      <td>248.23</td>\n",
       "      <td>248.57</td>\n",
       "      <td>244.03</td>\n",
       "      <td>244.46</td>\n",
       "      <td>113782919</td>\n",
       "    </tr>\n",
       "    <tr>\n",
       "      <th>2019-01-04 00:00:00-05:00</th>\n",
       "      <td>106.66</td>\n",
       "      <td>106.720</td>\n",
       "      <td>106.5500</td>\n",
       "      <td>106.695</td>\n",
       "      <td>7755476</td>\n",
       "      <td>247.59</td>\n",
       "      <td>253.11</td>\n",
       "      <td>247.17</td>\n",
       "      <td>252.41</td>\n",
       "      <td>122528832</td>\n",
       "    </tr>\n",
       "    <tr>\n",
       "      <th>2019-01-07 00:00:00-05:00</th>\n",
       "      <td>106.72</td>\n",
       "      <td>106.790</td>\n",
       "      <td>106.4600</td>\n",
       "      <td>106.470</td>\n",
       "      <td>6545877</td>\n",
       "      <td>252.69</td>\n",
       "      <td>255.95</td>\n",
       "      <td>251.69</td>\n",
       "      <td>254.40</td>\n",
       "      <td>88317608</td>\n",
       "    </tr>\n",
       "    <tr>\n",
       "      <th>2019-01-08 00:00:00-05:00</th>\n",
       "      <td>106.40</td>\n",
       "      <td>106.530</td>\n",
       "      <td>105.5300</td>\n",
       "      <td>106.420</td>\n",
       "      <td>3818241</td>\n",
       "      <td>256.82</td>\n",
       "      <td>257.31</td>\n",
       "      <td>254.00</td>\n",
       "      <td>256.65</td>\n",
       "      <td>88864452</td>\n",
       "    </tr>\n",
       "  </tbody>\n",
       "</table>\n",
       "</div>"
      ],
      "text/plain": [
       "                              AGG                                        \\\n",
       "                             open     high       low    close    volume   \n",
       "2019-01-02 00:00:00-05:00  106.55  106.610  106.4701  106.585  10164756   \n",
       "2019-01-03 00:00:00-05:00  106.57  107.075  106.5700  107.020   6260265   \n",
       "2019-01-04 00:00:00-05:00  106.66  106.720  106.5500  106.695   7755476   \n",
       "2019-01-07 00:00:00-05:00  106.72  106.790  106.4600  106.470   6545877   \n",
       "2019-01-08 00:00:00-05:00  106.40  106.530  105.5300  106.420   3818241   \n",
       "\n",
       "                              SPY                                     \n",
       "                             open    high     low   close     volume  \n",
       "2019-01-02 00:00:00-05:00  245.98  251.21  245.95  249.89  107236613  \n",
       "2019-01-03 00:00:00-05:00  248.23  248.57  244.03  244.46  113782919  \n",
       "2019-01-04 00:00:00-05:00  247.59  253.11  247.17  252.41  122528832  \n",
       "2019-01-07 00:00:00-05:00  252.69  255.95  251.69  254.40   88317608  \n",
       "2019-01-08 00:00:00-05:00  256.82  257.31  254.00  256.65   88864452  "
      ]
     },
     "execution_count": 18,
     "metadata": {},
     "output_type": "execute_result"
    }
   ],
   "source": [
    "# Format current date as ISO format\n",
    "# YOUR CODE HERE!\n",
    "start_date = pd.Timestamp('2019-01-01', tz='America/New_York').isoformat()\n",
    "end_date = pd.Timestamp('2020-09-15', tz='America/New_York').isoformat()\n",
    "# Set the tickers\n",
    "tickers = [\"AGG\", \"SPY\"]\n",
    "\n",
    "# Set timeframe to '1D' for Alpaca API\n",
    "timeframe = \"1D\"\n",
    "\n",
    "# Get current closing prices for SPY and AGG\n",
    "# YOUR CODE HERE!\n",
    "df = api.get_barset(\n",
    "    tickers,\n",
    "    timeframe,\n",
    "    limit=None,\n",
    "    start=start_date,\n",
    "    end=end_date,\n",
    "    after=None,\n",
    "    until=None,\n",
    ").df\n",
    "\n",
    "# Display sample data\n",
    "df.head()"
   ]
  },
  {
   "cell_type": "code",
   "execution_count": 19,
   "metadata": {},
   "outputs": [],
   "source": [
    "# Pick AGG and SPY close prices\n",
    "# YOUR CODE HERE!\n",
    "df_close = df.drop(\n",
    "    columns=['open', 'high', 'low', 'volume'],\n",
    "    level=1\n",
    ")"
   ]
  },
  {
   "cell_type": "code",
   "execution_count": 20,
   "metadata": {},
   "outputs": [],
   "source": [
    "#print(f\"Current AGG closing price: ${agg_close_price}\")\n",
    "#print(f\"Current SPY closing price: ${spy_close_price}\")"
   ]
  },
  {
   "cell_type": "code",
   "execution_count": 21,
   "metadata": {},
   "outputs": [
    {
     "data": {
      "text/html": [
       "<div>\n",
       "<style scoped>\n",
       "    .dataframe tbody tr th:only-of-type {\n",
       "        vertical-align: middle;\n",
       "    }\n",
       "\n",
       "    .dataframe tbody tr th {\n",
       "        vertical-align: top;\n",
       "    }\n",
       "\n",
       "    .dataframe thead tr th {\n",
       "        text-align: left;\n",
       "    }\n",
       "</style>\n",
       "<table border=\"1\" class=\"dataframe\">\n",
       "  <thead>\n",
       "    <tr>\n",
       "      <th></th>\n",
       "      <th>AGG</th>\n",
       "      <th>SPY</th>\n",
       "    </tr>\n",
       "    <tr>\n",
       "      <th></th>\n",
       "      <th>close</th>\n",
       "      <th>close</th>\n",
       "    </tr>\n",
       "  </thead>\n",
       "  <tbody>\n",
       "    <tr>\n",
       "      <th>2019-01-02 00:00:00-05:00</th>\n",
       "      <td>106.585</td>\n",
       "      <td>249.89</td>\n",
       "    </tr>\n",
       "    <tr>\n",
       "      <th>2019-01-03 00:00:00-05:00</th>\n",
       "      <td>107.020</td>\n",
       "      <td>244.46</td>\n",
       "    </tr>\n",
       "    <tr>\n",
       "      <th>2019-01-04 00:00:00-05:00</th>\n",
       "      <td>106.695</td>\n",
       "      <td>252.41</td>\n",
       "    </tr>\n",
       "    <tr>\n",
       "      <th>2019-01-07 00:00:00-05:00</th>\n",
       "      <td>106.470</td>\n",
       "      <td>254.40</td>\n",
       "    </tr>\n",
       "    <tr>\n",
       "      <th>2019-01-08 00:00:00-05:00</th>\n",
       "      <td>106.420</td>\n",
       "      <td>256.65</td>\n",
       "    </tr>\n",
       "  </tbody>\n",
       "</table>\n",
       "</div>"
      ],
      "text/plain": [
       "                               AGG     SPY\n",
       "                             close   close\n",
       "2019-01-02 00:00:00-05:00  106.585  249.89\n",
       "2019-01-03 00:00:00-05:00  107.020  244.46\n",
       "2019-01-04 00:00:00-05:00  106.695  252.41\n",
       "2019-01-07 00:00:00-05:00  106.470  254.40\n",
       "2019-01-08 00:00:00-05:00  106.420  256.65"
      ]
     },
     "execution_count": 21,
     "metadata": {},
     "output_type": "execute_result"
    }
   ],
   "source": [
    "# Print AGG and SPY close prices\n",
    "df_close.head()"
   ]
  },
  {
   "cell_type": "code",
   "execution_count": 22,
   "metadata": {},
   "outputs": [],
   "source": [
    "# Compute the current value of shares\n",
    "# YOUR CODE HERE!\n",
    "spy_last = df_close['SPY']['close'][-1]\n",
    "agg_last = df_close['AGG']['close'][-1]\n",
    "my_spy_value = my_spy * spy_last\n",
    "my_agg_value = my_agg * agg_last"
   ]
  },
  {
   "cell_type": "code",
   "execution_count": 23,
   "metadata": {},
   "outputs": [
    {
     "name": "stdout",
     "output_type": "stream",
     "text": [
      "Total value of my 50 SPY shares is $17007.50\n",
      "Total value of my 200 AGG shares is $23676.00\n",
      "Total value of my portfolio is $40683.50\n"
     ]
    }
   ],
   "source": [
    "# Print current value of share\n",
    "print(f'Total value of my {my_spy} SPY shares is ${my_spy_value:0.2f}')\n",
    "print(f'Total value of my {my_agg} AGG shares is ${my_agg_value:0.2f}')\n",
    "print(f'Total value of my portfolio is ${my_spy_value + my_agg_value:0.2f}')"
   ]
  },
  {
   "cell_type": "markdown",
   "metadata": {},
   "source": [
    "### Savings Health Analysis"
   ]
  },
  {
   "cell_type": "code",
   "execution_count": 24,
   "metadata": {},
   "outputs": [
    {
     "name": "stdout",
     "output_type": "stream",
     "text": [
      "Total amount of savings are worth $55142.81 for each union member.\n"
     ]
    }
   ],
   "source": [
    "# Create savings DataFrame\n",
    "# YOUR CODE HERE!\n",
    "savings = my_btc_value + my_eth_value + my_spy_value + my_agg_value \n",
    "#btc_proportion = my_btc_value / df_savings\n",
    "#eth_proportion = my_eth_value / df_savings\n",
    "#spy_proportion = my_spy_value / df_savings\n",
    "#agg_proportion = my_agg_value / df_savings\n",
    "\n",
    "# Display savings DataFrame\n",
    "print(f'Total amount of savings are worth ${savings:0.2f} for each union member.')"
   ]
  },
  {
   "cell_type": "code",
   "execution_count": 25,
   "metadata": {},
   "outputs": [
    {
     "data": {
      "text/html": [
       "<div>\n",
       "<style scoped>\n",
       "    .dataframe tbody tr th:only-of-type {\n",
       "        vertical-align: middle;\n",
       "    }\n",
       "\n",
       "    .dataframe tbody tr th {\n",
       "        vertical-align: top;\n",
       "    }\n",
       "\n",
       "    .dataframe thead th {\n",
       "        text-align: right;\n",
       "    }\n",
       "</style>\n",
       "<table border=\"1\" class=\"dataframe\">\n",
       "  <thead>\n",
       "    <tr style=\"text-align: right;\">\n",
       "      <th></th>\n",
       "      <th># of Shares</th>\n",
       "      <th>Value</th>\n",
       "    </tr>\n",
       "    <tr>\n",
       "      <th></th>\n",
       "      <th></th>\n",
       "      <th></th>\n",
       "    </tr>\n",
       "  </thead>\n",
       "  <tbody>\n",
       "    <tr>\n",
       "      <th>BTC</th>\n",
       "      <td>1.2</td>\n",
       "      <td>12613.368</td>\n",
       "    </tr>\n",
       "    <tr>\n",
       "      <th>ETH</th>\n",
       "      <td>5.3</td>\n",
       "      <td>1845.937</td>\n",
       "    </tr>\n",
       "    <tr>\n",
       "      <th>SPY</th>\n",
       "      <td>50.0</td>\n",
       "      <td>17007.500</td>\n",
       "    </tr>\n",
       "    <tr>\n",
       "      <th>AGG</th>\n",
       "      <td>200.0</td>\n",
       "      <td>23676.000</td>\n",
       "    </tr>\n",
       "  </tbody>\n",
       "</table>\n",
       "</div>"
      ],
      "text/plain": [
       "     # of Shares      Value\n",
       "                           \n",
       "BTC          1.2  12613.368\n",
       "ETH          5.3   1845.937\n",
       "SPY         50.0  17007.500\n",
       "AGG        200.0  23676.000"
      ]
     },
     "execution_count": 25,
     "metadata": {},
     "output_type": "execute_result"
    }
   ],
   "source": [
    "#df_savings = {'Crypto Assets': [f'{my_btc_value+my_eth_value:0.2f}'], 'Shares': [ f'{my_spy_value+my_agg_value:0.2f}']}\n",
    "#df = pd.DataFrame(data=df_savings)\n",
    "\n",
    "df_savings = pd.DataFrame({'': ['BTC', 'ETH', 'SPY', 'AGG'],'# of Shares': [my_btc, my_eth, my_spy, my_agg],'Value': [my_btc_value, my_eth_value, my_spy_value, my_agg_value]}, index=['BTC', 'ETH', 'SPY', 'AGG'])\n",
    "df_savings.set_index('')"
   ]
  },
  {
   "cell_type": "code",
   "execution_count": 26,
   "metadata": {},
   "outputs": [
    {
     "data": {
      "image/png": "[encoded data removed]",
      "text/plain": [
       "<Figure size 720x720 with 1 Axes>"
      ]
     },
     "metadata": {},
     "output_type": "display_data"
    }
   ],
   "source": [
    "df_savings.plot.pie(y='Value', figsize=(10, 10), title='Allocation of Securities', autopct='%1.1f%%');"
   ]
  },
  {
   "cell_type": "code",
   "execution_count": 27,
   "metadata": {},
   "outputs": [
    {
     "data": {
      "text/html": [
       "<div>\n",
       "<style scoped>\n",
       "    .dataframe tbody tr th:only-of-type {\n",
       "        vertical-align: middle;\n",
       "    }\n",
       "\n",
       "    .dataframe tbody tr th {\n",
       "        vertical-align: top;\n",
       "    }\n",
       "\n",
       "    .dataframe thead th {\n",
       "        text-align: right;\n",
       "    }\n",
       "</style>\n",
       "<table border=\"1\" class=\"dataframe\">\n",
       "  <thead>\n",
       "    <tr style=\"text-align: right;\">\n",
       "      <th></th>\n",
       "      <th>Amount</th>\n",
       "    </tr>\n",
       "    <tr>\n",
       "      <th></th>\n",
       "      <th></th>\n",
       "    </tr>\n",
       "  </thead>\n",
       "  <tbody>\n",
       "    <tr>\n",
       "      <th>Crypto Assets</th>\n",
       "      <td>14459.305</td>\n",
       "    </tr>\n",
       "    <tr>\n",
       "      <th>Shares</th>\n",
       "      <td>40683.500</td>\n",
       "    </tr>\n",
       "  </tbody>\n",
       "</table>\n",
       "</div>"
      ],
      "text/plain": [
       "                  Amount\n",
       "                        \n",
       "Crypto Assets  14459.305\n",
       "Shares         40683.500"
      ]
     },
     "execution_count": 27,
     "metadata": {},
     "output_type": "execute_result"
    }
   ],
   "source": [
    "# Plot savings pie chart\n",
    "# YOUR CODE HERE!\n",
    "df_savings_plot = pd.DataFrame({'': ['Crypto Assets', 'Shares'], 'Amount': [my_btc_value+my_eth_value, my_spy_value+my_agg_value]}, index=['Crypto Assets', 'Shares'])\n",
    "df_savings_plot.set_index('')"
   ]
  },
  {
   "cell_type": "code",
   "execution_count": 28,
   "metadata": {},
   "outputs": [
    {
     "data": {
      "image/png": "[encoded data removed]",
      "text/plain": [
       "<Figure size 720x720 with 1 Axes>"
      ]
     },
     "metadata": {},
     "output_type": "display_data"
    }
   ],
   "source": [
    "df_savings_plot.plot.pie(y='Amount', figsize=(10, 10), title='Allocation of Shares and Crypto Currency Assets', autopct='%1.1f%%');"
   ]
  },
  {
   "cell_type": "code",
   "execution_count": 29,
   "metadata": {},
   "outputs": [
    {
     "name": "stdout",
     "output_type": "stream",
     "text": [
      "Emergency fund is equal to $36000.\n",
      "Your total savings are equal to $55142.805.\n",
      "Congratulations! You have enough money to afford an emergency fund.\n"
     ]
    }
   ],
   "source": [
    "# Set ideal emergency fund\n",
    "emergency_fund = monthly_income * 3\n",
    "total_savings = my_spy_value + my_agg_value + my_btc_value + my_eth_value\n",
    "\n",
    "print(f'Emergency fund is equal to ${emergency_fund}.')\n",
    "print(f'Your total savings are equal to ${total_savings}.')\n",
    "# Calculate total amount of savings\n",
    "# YOUR CODE HERE!\n",
    "if total_savings > emergency_fund:\n",
    "    print('Congratulations! You have enough money to afford an emergency fund.')\n",
    "else:\n",
    "    print(f'Unfortunately you can not afford an emergency fund... You need ${emergency_fund - total_savings} more to afford an emergency fund.')\n",
    "# Validate saving health\n",
    "# YOUR CODE HERE!"
   ]
  },
  {
   "cell_type": "markdown",
   "metadata": {},
   "source": [
    "## Part 2 - Retirement Planning\n",
    "\n",
    "### Monte Carlo Simulation"
   ]
  },
  {
   "cell_type": "code",
   "execution_count": 30,
   "metadata": {},
   "outputs": [],
   "source": [
    "# Set start and end dates of five years back from today.\n",
    "# Sample results may vary from the solution based on the time frame chosen\n",
    "start_date = pd.Timestamp('1990-09-20', tz='America/New_York').isoformat()\n",
    "end_date = pd.Timestamp('2020-09-20', tz='America/New_York').isoformat()"
   ]
  },
  {
   "cell_type": "code",
   "execution_count": 31,
   "metadata": {},
   "outputs": [
    {
     "data": {
      "text/html": [
       "<div>\n",
       "<style scoped>\n",
       "    .dataframe tbody tr th:only-of-type {\n",
       "        vertical-align: middle;\n",
       "    }\n",
       "\n",
       "    .dataframe tbody tr th {\n",
       "        vertical-align: top;\n",
       "    }\n",
       "\n",
       "    .dataframe thead tr th {\n",
       "        text-align: left;\n",
       "    }\n",
       "</style>\n",
       "<table border=\"1\" class=\"dataframe\">\n",
       "  <thead>\n",
       "    <tr>\n",
       "      <th></th>\n",
       "      <th>AGG</th>\n",
       "      <th>SPY</th>\n",
       "    </tr>\n",
       "    <tr>\n",
       "      <th></th>\n",
       "      <th>close</th>\n",
       "      <th>close</th>\n",
       "    </tr>\n",
       "  </thead>\n",
       "  <tbody>\n",
       "    <tr>\n",
       "      <th>2008-01-02</th>\n",
       "      <td>101.65</td>\n",
       "      <td>144.55</td>\n",
       "    </tr>\n",
       "    <tr>\n",
       "      <th>2008-01-03</th>\n",
       "      <td>101.72</td>\n",
       "      <td>144.46</td>\n",
       "    </tr>\n",
       "    <tr>\n",
       "      <th>2008-01-04</th>\n",
       "      <td>102.12</td>\n",
       "      <td>140.93</td>\n",
       "    </tr>\n",
       "    <tr>\n",
       "      <th>2008-01-07</th>\n",
       "      <td>102.26</td>\n",
       "      <td>141.46</td>\n",
       "    </tr>\n",
       "    <tr>\n",
       "      <th>2008-01-08</th>\n",
       "      <td>102.51</td>\n",
       "      <td>138.81</td>\n",
       "    </tr>\n",
       "  </tbody>\n",
       "</table>\n",
       "</div>"
      ],
      "text/plain": [
       "               AGG     SPY\n",
       "             close   close\n",
       "2008-01-02  101.65  144.55\n",
       "2008-01-03  101.72  144.46\n",
       "2008-01-04  102.12  140.93\n",
       "2008-01-07  102.26  141.46\n",
       "2008-01-08  102.51  138.81"
      ]
     },
     "execution_count": 31,
     "metadata": {},
     "output_type": "execute_result"
    }
   ],
   "source": [
    "# Get 5 years' worth of historical data for SPY and AGG\n",
    "# YOUR CODE HERE!\n",
    "tickers = [\"AGG\", \"SPY\"]\n",
    "timeframe = \"1D\"\n",
    "df_stock_data = api.get_barset(\n",
    "    tickers,\n",
    "    timeframe,\n",
    "    limit=None,\n",
    "    start=start_date,\n",
    "    end=end_date,\n",
    "    after=None,\n",
    "    until=None,\n",
    ").df\n",
    "df_stock_data.index = df_stock_data.index.date\n",
    "df_stock_close = df_stock_data.drop(\n",
    "    columns=['open', 'high', 'low', 'volume'],\n",
    "    level=1\n",
    ")\n",
    "# Display sample data\n",
    "df_stock_close.head()"
   ]
  },
  {
   "cell_type": "code",
   "execution_count": 32,
   "metadata": {},
   "outputs": [
    {
     "data": {
      "text/html": [
       "<div>\n",
       "<style scoped>\n",
       "    .dataframe tbody tr th:only-of-type {\n",
       "        vertical-align: middle;\n",
       "    }\n",
       "\n",
       "    .dataframe tbody tr th {\n",
       "        vertical-align: top;\n",
       "    }\n",
       "\n",
       "    .dataframe thead tr th {\n",
       "        text-align: left;\n",
       "    }\n",
       "</style>\n",
       "<table border=\"1\" class=\"dataframe\">\n",
       "  <thead>\n",
       "    <tr>\n",
       "      <th></th>\n",
       "      <th>AGG</th>\n",
       "      <th>SPY</th>\n",
       "    </tr>\n",
       "    <tr>\n",
       "      <th></th>\n",
       "      <th>close</th>\n",
       "      <th>close</th>\n",
       "    </tr>\n",
       "  </thead>\n",
       "  <tbody>\n",
       "    <tr>\n",
       "      <th>2008-01-03</th>\n",
       "      <td>0.000689</td>\n",
       "      <td>-0.000623</td>\n",
       "    </tr>\n",
       "    <tr>\n",
       "      <th>2008-01-04</th>\n",
       "      <td>0.003932</td>\n",
       "      <td>-0.024436</td>\n",
       "    </tr>\n",
       "    <tr>\n",
       "      <th>2008-01-07</th>\n",
       "      <td>0.001371</td>\n",
       "      <td>0.003761</td>\n",
       "    </tr>\n",
       "    <tr>\n",
       "      <th>2008-01-08</th>\n",
       "      <td>0.002445</td>\n",
       "      <td>-0.018733</td>\n",
       "    </tr>\n",
       "    <tr>\n",
       "      <th>2008-01-09</th>\n",
       "      <td>-0.002927</td>\n",
       "      <td>0.014192</td>\n",
       "    </tr>\n",
       "    <tr>\n",
       "      <th>...</th>\n",
       "      <td>...</td>\n",
       "      <td>...</td>\n",
       "    </tr>\n",
       "    <tr>\n",
       "      <th>2020-09-14</th>\n",
       "      <td>0.000084</td>\n",
       "      <td>0.012991</td>\n",
       "    </tr>\n",
       "    <tr>\n",
       "      <th>2020-09-15</th>\n",
       "      <td>0.000084</td>\n",
       "      <td>0.005112</td>\n",
       "    </tr>\n",
       "    <tr>\n",
       "      <th>2020-09-16</th>\n",
       "      <td>-0.000507</td>\n",
       "      <td>-0.003939</td>\n",
       "    </tr>\n",
       "    <tr>\n",
       "      <th>2020-09-17</th>\n",
       "      <td>0.000338</td>\n",
       "      <td>-0.008707</td>\n",
       "    </tr>\n",
       "    <tr>\n",
       "      <th>2020-09-18</th>\n",
       "      <td>-0.001014</td>\n",
       "      <td>-0.015393</td>\n",
       "    </tr>\n",
       "  </tbody>\n",
       "</table>\n",
       "<p>3201 rows × 2 columns</p>\n",
       "</div>"
      ],
      "text/plain": [
       "                 AGG       SPY\n",
       "               close     close\n",
       "2008-01-03  0.000689 -0.000623\n",
       "2008-01-04  0.003932 -0.024436\n",
       "2008-01-07  0.001371  0.003761\n",
       "2008-01-08  0.002445 -0.018733\n",
       "2008-01-09 -0.002927  0.014192\n",
       "...              ...       ...\n",
       "2020-09-14  0.000084  0.012991\n",
       "2020-09-15  0.000084  0.005112\n",
       "2020-09-16 -0.000507 -0.003939\n",
       "2020-09-17  0.000338 -0.008707\n",
       "2020-09-18 -0.001014 -0.015393\n",
       "\n",
       "[3201 rows x 2 columns]"
      ]
     },
     "execution_count": 32,
     "metadata": {},
     "output_type": "execute_result"
    }
   ],
   "source": [
    "# Calculate daily returns\n",
    "df_stock_daily = df_stock_close.pct_change().dropna()\n",
    "df_stock_daily"
   ]
  },
  {
   "cell_type": "code",
   "execution_count": 33,
   "metadata": {},
   "outputs": [],
   "source": [
    "# Configuring a Monte Carlo simulation to forecast 30 years cumulative returns\n",
    "# YOUR CODE HERE!\n",
    "MC_30year = MCSimulation(\n",
    "    portfolio_data = df_stock_data,\n",
    "    weights = [.40,.60],\n",
    "    num_simulation = 100,\n",
    "    num_trading_days = 252*30\n",
    ")"
   ]
  },
  {
   "cell_type": "code",
   "execution_count": 34,
   "metadata": {},
   "outputs": [
    {
     "data": {
      "text/html": [
       "<div>\n",
       "<style scoped>\n",
       "    .dataframe tbody tr th:only-of-type {\n",
       "        vertical-align: middle;\n",
       "    }\n",
       "\n",
       "    .dataframe tbody tr th {\n",
       "        vertical-align: top;\n",
       "    }\n",
       "\n",
       "    .dataframe thead tr th {\n",
       "        text-align: left;\n",
       "    }\n",
       "</style>\n",
       "<table border=\"1\" class=\"dataframe\">\n",
       "  <thead>\n",
       "    <tr>\n",
       "      <th></th>\n",
       "      <th colspan=\"2\" halign=\"left\">AGG</th>\n",
       "      <th colspan=\"2\" halign=\"left\">SPY</th>\n",
       "    </tr>\n",
       "    <tr>\n",
       "      <th></th>\n",
       "      <th>close</th>\n",
       "      <th>daily_return</th>\n",
       "      <th>close</th>\n",
       "      <th>daily_return</th>\n",
       "    </tr>\n",
       "  </thead>\n",
       "  <tbody>\n",
       "    <tr>\n",
       "      <th>2008-01-03</th>\n",
       "      <td>101.72</td>\n",
       "      <td>0.000689</td>\n",
       "      <td>144.46</td>\n",
       "      <td>-0.000623</td>\n",
       "    </tr>\n",
       "    <tr>\n",
       "      <th>2008-01-04</th>\n",
       "      <td>102.12</td>\n",
       "      <td>0.003932</td>\n",
       "      <td>140.93</td>\n",
       "      <td>-0.024436</td>\n",
       "    </tr>\n",
       "    <tr>\n",
       "      <th>2008-01-07</th>\n",
       "      <td>102.26</td>\n",
       "      <td>0.001371</td>\n",
       "      <td>141.46</td>\n",
       "      <td>0.003761</td>\n",
       "    </tr>\n",
       "    <tr>\n",
       "      <th>2008-01-08</th>\n",
       "      <td>102.51</td>\n",
       "      <td>0.002445</td>\n",
       "      <td>138.81</td>\n",
       "      <td>-0.018733</td>\n",
       "    </tr>\n",
       "    <tr>\n",
       "      <th>2008-01-09</th>\n",
       "      <td>102.21</td>\n",
       "      <td>-0.002927</td>\n",
       "      <td>140.78</td>\n",
       "      <td>0.014192</td>\n",
       "    </tr>\n",
       "  </tbody>\n",
       "</table>\n",
       "</div>"
      ],
      "text/plain": [
       "               AGG                  SPY             \n",
       "             close daily_return   close daily_return\n",
       "2008-01-03  101.72     0.000689  144.46    -0.000623\n",
       "2008-01-04  102.12     0.003932  140.93    -0.024436\n",
       "2008-01-07  102.26     0.001371  141.46     0.003761\n",
       "2008-01-08  102.51     0.002445  138.81    -0.018733\n",
       "2008-01-09  102.21    -0.002927  140.78     0.014192"
      ]
     },
     "execution_count": 34,
     "metadata": {},
     "output_type": "execute_result"
    }
   ],
   "source": [
    "# Printing the simulation input data\n",
    "# YOUR CODE HERE!\n",
    "#MC_30year.portfolio_data.head()\n",
    "MC_30year_close = MC_30year.portfolio_data.drop(columns=['open', 'high', 'low', 'volume'], level=1).dropna()\n",
    "MC_30year_close.head()"
   ]
  },
  {
   "cell_type": "code",
   "execution_count": 35,
   "metadata": {},
   "outputs": [
    {
     "name": "stdout",
     "output_type": "stream",
     "text": [
      "Running Monte Carlo simulation number 0.\n",
      "Running Monte Carlo simulation number 10.\n",
      "Running Monte Carlo simulation number 20.\n",
      "Running Monte Carlo simulation number 30.\n",
      "Running Monte Carlo simulation number 40.\n",
      "Running Monte Carlo simulation number 50.\n",
      "Running Monte Carlo simulation number 60.\n",
      "Running Monte Carlo simulation number 70.\n",
      "Running Monte Carlo simulation number 80.\n",
      "Running Monte Carlo simulation number 90.\n"
     ]
    },
    {
     "data": {
      "text/html": [
       "<div>\n",
       "<style scoped>\n",
       "    .dataframe tbody tr th:only-of-type {\n",
       "        vertical-align: middle;\n",
       "    }\n",
       "\n",
       "    .dataframe tbody tr th {\n",
       "        vertical-align: top;\n",
       "    }\n",
       "\n",
       "    .dataframe thead th {\n",
       "        text-align: right;\n",
       "    }\n",
       "</style>\n",
       "<table border=\"1\" class=\"dataframe\">\n",
       "  <thead>\n",
       "    <tr style=\"text-align: right;\">\n",
       "      <th></th>\n",
       "      <th>0</th>\n",
       "      <th>1</th>\n",
       "      <th>2</th>\n",
       "      <th>3</th>\n",
       "      <th>4</th>\n",
       "      <th>5</th>\n",
       "      <th>6</th>\n",
       "      <th>7</th>\n",
       "      <th>8</th>\n",
       "      <th>9</th>\n",
       "      <th>...</th>\n",
       "      <th>90</th>\n",
       "      <th>91</th>\n",
       "      <th>92</th>\n",
       "      <th>93</th>\n",
       "      <th>94</th>\n",
       "      <th>95</th>\n",
       "      <th>96</th>\n",
       "      <th>97</th>\n",
       "      <th>98</th>\n",
       "      <th>99</th>\n",
       "    </tr>\n",
       "  </thead>\n",
       "  <tbody>\n",
       "    <tr>\n",
       "      <th>0</th>\n",
       "      <td>1.000000</td>\n",
       "      <td>1.000000</td>\n",
       "      <td>1.000000</td>\n",
       "      <td>1.000000</td>\n",
       "      <td>1.000000</td>\n",
       "      <td>1.000000</td>\n",
       "      <td>1.000000</td>\n",
       "      <td>1.000000</td>\n",
       "      <td>1.000000</td>\n",
       "      <td>1.000000</td>\n",
       "      <td>...</td>\n",
       "      <td>1.000000</td>\n",
       "      <td>1.000000</td>\n",
       "      <td>1.000000</td>\n",
       "      <td>1.000000</td>\n",
       "      <td>1.000000</td>\n",
       "      <td>1.000000</td>\n",
       "      <td>1.000000</td>\n",
       "      <td>1.000000</td>\n",
       "      <td>1.000000</td>\n",
       "      <td>1.000000</td>\n",
       "    </tr>\n",
       "    <tr>\n",
       "      <th>1</th>\n",
       "      <td>1.016100</td>\n",
       "      <td>1.008569</td>\n",
       "      <td>1.001204</td>\n",
       "      <td>0.980932</td>\n",
       "      <td>1.008755</td>\n",
       "      <td>0.991903</td>\n",
       "      <td>0.993601</td>\n",
       "      <td>0.998180</td>\n",
       "      <td>0.984849</td>\n",
       "      <td>1.000703</td>\n",
       "      <td>...</td>\n",
       "      <td>1.008958</td>\n",
       "      <td>1.011482</td>\n",
       "      <td>1.002730</td>\n",
       "      <td>1.001591</td>\n",
       "      <td>1.012270</td>\n",
       "      <td>0.998077</td>\n",
       "      <td>1.002390</td>\n",
       "      <td>0.998336</td>\n",
       "      <td>1.005342</td>\n",
       "      <td>0.996797</td>\n",
       "    </tr>\n",
       "    <tr>\n",
       "      <th>2</th>\n",
       "      <td>1.011634</td>\n",
       "      <td>0.996777</td>\n",
       "      <td>1.006448</td>\n",
       "      <td>0.969221</td>\n",
       "      <td>1.000090</td>\n",
       "      <td>0.993189</td>\n",
       "      <td>0.996578</td>\n",
       "      <td>0.996079</td>\n",
       "      <td>0.986722</td>\n",
       "      <td>0.995924</td>\n",
       "      <td>...</td>\n",
       "      <td>1.006501</td>\n",
       "      <td>1.025251</td>\n",
       "      <td>1.015591</td>\n",
       "      <td>1.004987</td>\n",
       "      <td>1.006448</td>\n",
       "      <td>0.996147</td>\n",
       "      <td>1.003883</td>\n",
       "      <td>1.000367</td>\n",
       "      <td>1.017407</td>\n",
       "      <td>1.002533</td>\n",
       "    </tr>\n",
       "    <tr>\n",
       "      <th>3</th>\n",
       "      <td>1.012772</td>\n",
       "      <td>0.997066</td>\n",
       "      <td>0.996842</td>\n",
       "      <td>0.970169</td>\n",
       "      <td>1.013397</td>\n",
       "      <td>0.997317</td>\n",
       "      <td>0.988065</td>\n",
       "      <td>0.992804</td>\n",
       "      <td>0.988574</td>\n",
       "      <td>0.989613</td>\n",
       "      <td>...</td>\n",
       "      <td>1.002663</td>\n",
       "      <td>1.024403</td>\n",
       "      <td>1.017197</td>\n",
       "      <td>1.002412</td>\n",
       "      <td>1.004612</td>\n",
       "      <td>1.013466</td>\n",
       "      <td>1.008069</td>\n",
       "      <td>0.996920</td>\n",
       "      <td>1.006640</td>\n",
       "      <td>0.993919</td>\n",
       "    </tr>\n",
       "    <tr>\n",
       "      <th>4</th>\n",
       "      <td>1.021887</td>\n",
       "      <td>0.995790</td>\n",
       "      <td>0.993891</td>\n",
       "      <td>0.974589</td>\n",
       "      <td>1.011521</td>\n",
       "      <td>0.988895</td>\n",
       "      <td>0.981171</td>\n",
       "      <td>0.994475</td>\n",
       "      <td>0.994369</td>\n",
       "      <td>0.986600</td>\n",
       "      <td>...</td>\n",
       "      <td>1.000864</td>\n",
       "      <td>1.021651</td>\n",
       "      <td>1.027641</td>\n",
       "      <td>0.998583</td>\n",
       "      <td>1.011497</td>\n",
       "      <td>1.011357</td>\n",
       "      <td>1.012551</td>\n",
       "      <td>1.006988</td>\n",
       "      <td>0.999115</td>\n",
       "      <td>0.989618</td>\n",
       "    </tr>\n",
       "    <tr>\n",
       "      <th>...</th>\n",
       "      <td>...</td>\n",
       "      <td>...</td>\n",
       "      <td>...</td>\n",
       "      <td>...</td>\n",
       "      <td>...</td>\n",
       "      <td>...</td>\n",
       "      <td>...</td>\n",
       "      <td>...</td>\n",
       "      <td>...</td>\n",
       "      <td>...</td>\n",
       "      <td>...</td>\n",
       "      <td>...</td>\n",
       "      <td>...</td>\n",
       "      <td>...</td>\n",
       "      <td>...</td>\n",
       "      <td>...</td>\n",
       "      <td>...</td>\n",
       "      <td>...</td>\n",
       "      <td>...</td>\n",
       "      <td>...</td>\n",
       "      <td>...</td>\n",
       "    </tr>\n",
       "    <tr>\n",
       "      <th>7556</th>\n",
       "      <td>4.926308</td>\n",
       "      <td>6.341228</td>\n",
       "      <td>2.077893</td>\n",
       "      <td>11.309459</td>\n",
       "      <td>2.535691</td>\n",
       "      <td>9.211577</td>\n",
       "      <td>6.231645</td>\n",
       "      <td>2.515841</td>\n",
       "      <td>1.228259</td>\n",
       "      <td>1.046004</td>\n",
       "      <td>...</td>\n",
       "      <td>5.158692</td>\n",
       "      <td>3.158435</td>\n",
       "      <td>2.772619</td>\n",
       "      <td>5.264769</td>\n",
       "      <td>3.173271</td>\n",
       "      <td>1.413826</td>\n",
       "      <td>4.482966</td>\n",
       "      <td>15.854276</td>\n",
       "      <td>2.090196</td>\n",
       "      <td>11.896341</td>\n",
       "    </tr>\n",
       "    <tr>\n",
       "      <th>7557</th>\n",
       "      <td>4.945268</td>\n",
       "      <td>6.406330</td>\n",
       "      <td>2.081050</td>\n",
       "      <td>11.341188</td>\n",
       "      <td>2.509730</td>\n",
       "      <td>9.196343</td>\n",
       "      <td>6.226622</td>\n",
       "      <td>2.533966</td>\n",
       "      <td>1.224786</td>\n",
       "      <td>1.047370</td>\n",
       "      <td>...</td>\n",
       "      <td>5.131993</td>\n",
       "      <td>3.114289</td>\n",
       "      <td>2.782607</td>\n",
       "      <td>5.294273</td>\n",
       "      <td>3.125906</td>\n",
       "      <td>1.424840</td>\n",
       "      <td>4.506306</td>\n",
       "      <td>15.837877</td>\n",
       "      <td>2.061219</td>\n",
       "      <td>11.857222</td>\n",
       "    </tr>\n",
       "    <tr>\n",
       "      <th>7558</th>\n",
       "      <td>4.928253</td>\n",
       "      <td>6.378085</td>\n",
       "      <td>2.104731</td>\n",
       "      <td>11.313353</td>\n",
       "      <td>2.512230</td>\n",
       "      <td>9.139112</td>\n",
       "      <td>6.201361</td>\n",
       "      <td>2.543643</td>\n",
       "      <td>1.233386</td>\n",
       "      <td>1.047020</td>\n",
       "      <td>...</td>\n",
       "      <td>5.105811</td>\n",
       "      <td>3.148843</td>\n",
       "      <td>2.791257</td>\n",
       "      <td>5.341662</td>\n",
       "      <td>3.136568</td>\n",
       "      <td>1.418726</td>\n",
       "      <td>4.496028</td>\n",
       "      <td>16.052675</td>\n",
       "      <td>2.049938</td>\n",
       "      <td>11.815359</td>\n",
       "    </tr>\n",
       "    <tr>\n",
       "      <th>7559</th>\n",
       "      <td>5.001308</td>\n",
       "      <td>6.400244</td>\n",
       "      <td>2.126920</td>\n",
       "      <td>11.417075</td>\n",
       "      <td>2.508471</td>\n",
       "      <td>9.128307</td>\n",
       "      <td>6.158713</td>\n",
       "      <td>2.564911</td>\n",
       "      <td>1.223504</td>\n",
       "      <td>1.050308</td>\n",
       "      <td>...</td>\n",
       "      <td>5.112683</td>\n",
       "      <td>3.169960</td>\n",
       "      <td>2.782417</td>\n",
       "      <td>5.397167</td>\n",
       "      <td>3.168562</td>\n",
       "      <td>1.397111</td>\n",
       "      <td>4.470209</td>\n",
       "      <td>15.852823</td>\n",
       "      <td>2.097358</td>\n",
       "      <td>11.891360</td>\n",
       "    </tr>\n",
       "    <tr>\n",
       "      <th>7560</th>\n",
       "      <td>4.979039</td>\n",
       "      <td>6.384197</td>\n",
       "      <td>2.149369</td>\n",
       "      <td>11.402706</td>\n",
       "      <td>2.527786</td>\n",
       "      <td>9.075486</td>\n",
       "      <td>6.225894</td>\n",
       "      <td>2.584471</td>\n",
       "      <td>1.232571</td>\n",
       "      <td>1.056845</td>\n",
       "      <td>...</td>\n",
       "      <td>5.089378</td>\n",
       "      <td>3.192792</td>\n",
       "      <td>2.750392</td>\n",
       "      <td>5.375047</td>\n",
       "      <td>3.184603</td>\n",
       "      <td>1.399734</td>\n",
       "      <td>4.387707</td>\n",
       "      <td>15.904186</td>\n",
       "      <td>2.078609</td>\n",
       "      <td>11.890269</td>\n",
       "    </tr>\n",
       "  </tbody>\n",
       "</table>\n",
       "<p>7561 rows × 100 columns</p>\n",
       "</div>"
      ],
      "text/plain": [
       "            0         1         2          3         4         5         6   \\\n",
       "0     1.000000  1.000000  1.000000   1.000000  1.000000  1.000000  1.000000   \n",
       "1     1.016100  1.008569  1.001204   0.980932  1.008755  0.991903  0.993601   \n",
       "2     1.011634  0.996777  1.006448   0.969221  1.000090  0.993189  0.996578   \n",
       "3     1.012772  0.997066  0.996842   0.970169  1.013397  0.997317  0.988065   \n",
       "4     1.021887  0.995790  0.993891   0.974589  1.011521  0.988895  0.981171   \n",
       "...        ...       ...       ...        ...       ...       ...       ...   \n",
       "7556  4.926308  6.341228  2.077893  11.309459  2.535691  9.211577  6.231645   \n",
       "7557  4.945268  6.406330  2.081050  11.341188  2.509730  9.196343  6.226622   \n",
       "7558  4.928253  6.378085  2.104731  11.313353  2.512230  9.139112  6.201361   \n",
       "7559  5.001308  6.400244  2.126920  11.417075  2.508471  9.128307  6.158713   \n",
       "7560  4.979039  6.384197  2.149369  11.402706  2.527786  9.075486  6.225894   \n",
       "\n",
       "            7         8         9   ...        90        91        92  \\\n",
       "0     1.000000  1.000000  1.000000  ...  1.000000  1.000000  1.000000   \n",
       "1     0.998180  0.984849  1.000703  ...  1.008958  1.011482  1.002730   \n",
       "2     0.996079  0.986722  0.995924  ...  1.006501  1.025251  1.015591   \n",
       "3     0.992804  0.988574  0.989613  ...  1.002663  1.024403  1.017197   \n",
       "4     0.994475  0.994369  0.986600  ...  1.000864  1.021651  1.027641   \n",
       "...        ...       ...       ...  ...       ...       ...       ...   \n",
       "7556  2.515841  1.228259  1.046004  ...  5.158692  3.158435  2.772619   \n",
       "7557  2.533966  1.224786  1.047370  ...  5.131993  3.114289  2.782607   \n",
       "7558  2.543643  1.233386  1.047020  ...  5.105811  3.148843  2.791257   \n",
       "7559  2.564911  1.223504  1.050308  ...  5.112683  3.169960  2.782417   \n",
       "7560  2.584471  1.232571  1.056845  ...  5.089378  3.192792  2.750392   \n",
       "\n",
       "            93        94        95        96         97        98         99  \n",
       "0     1.000000  1.000000  1.000000  1.000000   1.000000  1.000000   1.000000  \n",
       "1     1.001591  1.012270  0.998077  1.002390   0.998336  1.005342   0.996797  \n",
       "2     1.004987  1.006448  0.996147  1.003883   1.000367  1.017407   1.002533  \n",
       "3     1.002412  1.004612  1.013466  1.008069   0.996920  1.006640   0.993919  \n",
       "4     0.998583  1.011497  1.011357  1.012551   1.006988  0.999115   0.989618  \n",
       "...        ...       ...       ...       ...        ...       ...        ...  \n",
       "7556  5.264769  3.173271  1.413826  4.482966  15.854276  2.090196  11.896341  \n",
       "7557  5.294273  3.125906  1.424840  4.506306  15.837877  2.061219  11.857222  \n",
       "7558  5.341662  3.136568  1.418726  4.496028  16.052675  2.049938  11.815359  \n",
       "7559  5.397167  3.168562  1.397111  4.470209  15.852823  2.097358  11.891360  \n",
       "7560  5.375047  3.184603  1.399734  4.387707  15.904186  2.078609  11.890269  \n",
       "\n",
       "[7561 rows x 100 columns]"
      ]
     },
     "execution_count": 35,
     "metadata": {},
     "output_type": "execute_result"
    }
   ],
   "source": [
    "# Running a Monte Carlo simulation to forecast 30 years cumulative returns\n",
    "# YOUR CODE HERE!\n",
    "MC_30year.calc_cumulative_return()"
   ]
  },
  {
   "cell_type": "code",
   "execution_count": 36,
   "metadata": {},
   "outputs": [
    {
     "data": {
      "image/png": "[encoded data removed]",
      "text/plain": [
       "<Figure size 432x288 with 1 Axes>"
      ]
     },
     "metadata": {
      "needs_background": "light"
     },
     "output_type": "display_data"
    }
   ],
   "source": [
    "# Plot simulation outcomes\n",
    "# YOUR CODE HERE!\n",
    "simulation_plot = MC_30year.plot_simulation();"
   ]
  },
  {
   "cell_type": "code",
   "execution_count": 37,
   "metadata": {},
   "outputs": [
    {
     "data": {
      "image/png": "[encoded data removed]",
      "text/plain": [
       "<Figure size 432x288 with 1 Axes>"
      ]
     },
     "metadata": {
      "needs_background": "light"
     },
     "output_type": "display_data"
    }
   ],
   "source": [
    "# Plot probability distribution and confidence intervals\n",
    "# YOUR CODE HERE!\n",
    "plot_dist_int = MC_30year.plot_distribution()"
   ]
  },
  {
   "cell_type": "markdown",
   "metadata": {},
   "source": [
    "### Retirement Analysis"
   ]
  },
  {
   "cell_type": "code",
   "execution_count": 41,
   "metadata": {},
   "outputs": [
    {
     "name": "stdout",
     "output_type": "stream",
     "text": [
      "count           100.000000\n",
      "mean              4.867106\n",
      "std               3.358244\n",
      "min               0.918645\n",
      "25%               2.309703\n",
      "50%               4.274330\n",
      "75%               6.011664\n",
      "max              17.754884\n",
      "95% CI Lower      1.037599\n",
      "95% CI Upper     13.920030\n",
      "Name: 7560, dtype: float64\n"
     ]
    }
   ],
   "source": [
    "# Fetch summary statistics from the Monte Carlo simulation results\n",
    "# YOUR CODE HERE!\n",
    "tbl_30 = MC_30year.summarize_cumulative_return()\n",
    "\n",
    "# Print summary statistics\n",
    "print(tbl_30)"
   ]
  },
  {
   "cell_type": "markdown",
   "metadata": {},
   "source": [
    "### Given an initial investment of $20,000, what is the expected portfolio return in dollars at the 95% lower and upper confidence intervals?"
   ]
  },
  {
   "cell_type": "code",
   "execution_count": 42,
   "metadata": {},
   "outputs": [
    {
     "name": "stdout",
     "output_type": "stream",
     "text": [
      "There is a 95% chance that an initial investment of $20000 in the portfolio over the next 30 years will end within in the range of $20751.97 and $278400.61\n"
     ]
    }
   ],
   "source": [
    "# Set initial investment\n",
    "initial_investment_30 = 20000\n",
    "\n",
    "# Use the lower and upper `95%` confidence intervals to calculate the range of the possible outcomes of our $20,000\n",
    "# YOUR CODE HERE!\n",
    "ci_lower_30 = round(tbl_30[8]*initial_investment_30,2)\n",
    "ci_upper_30 = round(tbl_30[9]*initial_investment_30,2)\n",
    "# Print results\n",
    "print(f\"There is a 95% chance that an initial investment of ${initial_investment_30} in the portfolio\"\n",
    "      f\" over the next 30 years will end within in the range of\"\n",
    "      f\" ${ci_lower_30} and ${ci_upper_30}\")"
   ]
  },
  {
   "cell_type": "markdown",
   "metadata": {},
   "source": [
    "### How would a 50% increase in the initial investment amount affect the expected portfolio return in dollars at the 95% lower and upper confidence intervals?"
   ]
  },
  {
   "cell_type": "code",
   "execution_count": 45,
   "metadata": {},
   "outputs": [
    {
     "name": "stdout",
     "output_type": "stream",
     "text": [
      "There is a 95% chance that an initial investment of $30000.0 in the portfolio over the next 30 years will end within in the range of $31127.96 and $417600.91\n"
     ]
    }
   ],
   "source": [
    "# Set initial investment\n",
    "initial_investment_30_50 = 20000 * 1.5\n",
    "\n",
    "# Use the lower and upper `95%` confidence intervals to calculate the range of the possible outcomes of our $30,000\n",
    "# YOUR CODE HERE!\n",
    "ci_lower_30_50 = round(tbl_30[8]*initial_investment_30_50,2)\n",
    "ci_upper_30_50 = round(tbl_30[9]*initial_investment_30_50,2)\n",
    "# Print results\n",
    "print(f\"There is a 95% chance that an initial investment of ${initial_investment_30_50} in the portfolio\"\n",
    "      f\" over the next 30 years will end within in the range of\"\n",
    "      f\" ${ci_lower_30_50} and ${ci_upper_30_50}\")"
   ]
  },
  {
   "cell_type": "markdown",
   "metadata": {},
   "source": [
    "## Optional Challenge - Early Retirement\n",
    "\n",
    "\n",
    "### Five Years Retirement Option"
   ]
  },
  {
   "cell_type": "code",
   "execution_count": 46,
   "metadata": {},
   "outputs": [],
   "source": [
    "# Configuring a Monte Carlo simulation to forecast 5 years cumulative returns\n",
    "# YOUR CODE HERE!\n",
    "MC_5year = MCSimulation(\n",
    "    portfolio_data = df_stock_data,\n",
    "    weights = [.40,.60],\n",
    "    num_simulation = 100,\n",
    "    num_trading_days = 252*5\n",
    ")"
   ]
  },
  {
   "cell_type": "code",
   "execution_count": 47,
   "metadata": {},
   "outputs": [
    {
     "name": "stdout",
     "output_type": "stream",
     "text": [
      "Running Monte Carlo simulation number 0.\n",
      "Running Monte Carlo simulation number 10.\n",
      "Running Monte Carlo simulation number 20.\n",
      "Running Monte Carlo simulation number 30.\n",
      "Running Monte Carlo simulation number 40.\n",
      "Running Monte Carlo simulation number 50.\n",
      "Running Monte Carlo simulation number 60.\n",
      "Running Monte Carlo simulation number 70.\n",
      "Running Monte Carlo simulation number 80.\n",
      "Running Monte Carlo simulation number 90.\n"
     ]
    },
    {
     "data": {
      "text/html": [
       "<div>\n",
       "<style scoped>\n",
       "    .dataframe tbody tr th:only-of-type {\n",
       "        vertical-align: middle;\n",
       "    }\n",
       "\n",
       "    .dataframe tbody tr th {\n",
       "        vertical-align: top;\n",
       "    }\n",
       "\n",
       "    .dataframe thead th {\n",
       "        text-align: right;\n",
       "    }\n",
       "</style>\n",
       "<table border=\"1\" class=\"dataframe\">\n",
       "  <thead>\n",
       "    <tr style=\"text-align: right;\">\n",
       "      <th></th>\n",
       "      <th>0</th>\n",
       "      <th>1</th>\n",
       "      <th>2</th>\n",
       "      <th>3</th>\n",
       "      <th>4</th>\n",
       "      <th>5</th>\n",
       "      <th>6</th>\n",
       "      <th>7</th>\n",
       "      <th>8</th>\n",
       "      <th>9</th>\n",
       "      <th>...</th>\n",
       "      <th>90</th>\n",
       "      <th>91</th>\n",
       "      <th>92</th>\n",
       "      <th>93</th>\n",
       "      <th>94</th>\n",
       "      <th>95</th>\n",
       "      <th>96</th>\n",
       "      <th>97</th>\n",
       "      <th>98</th>\n",
       "      <th>99</th>\n",
       "    </tr>\n",
       "  </thead>\n",
       "  <tbody>\n",
       "    <tr>\n",
       "      <th>0</th>\n",
       "      <td>1.000000</td>\n",
       "      <td>1.000000</td>\n",
       "      <td>1.000000</td>\n",
       "      <td>1.000000</td>\n",
       "      <td>1.000000</td>\n",
       "      <td>1.000000</td>\n",
       "      <td>1.000000</td>\n",
       "      <td>1.000000</td>\n",
       "      <td>1.000000</td>\n",
       "      <td>1.000000</td>\n",
       "      <td>...</td>\n",
       "      <td>1.000000</td>\n",
       "      <td>1.000000</td>\n",
       "      <td>1.000000</td>\n",
       "      <td>1.000000</td>\n",
       "      <td>1.000000</td>\n",
       "      <td>1.000000</td>\n",
       "      <td>1.000000</td>\n",
       "      <td>1.000000</td>\n",
       "      <td>1.000000</td>\n",
       "      <td>1.000000</td>\n",
       "    </tr>\n",
       "    <tr>\n",
       "      <th>1</th>\n",
       "      <td>0.996621</td>\n",
       "      <td>0.999590</td>\n",
       "      <td>0.997083</td>\n",
       "      <td>0.997377</td>\n",
       "      <td>1.008690</td>\n",
       "      <td>1.014756</td>\n",
       "      <td>1.005734</td>\n",
       "      <td>1.003246</td>\n",
       "      <td>1.010924</td>\n",
       "      <td>1.002047</td>\n",
       "      <td>...</td>\n",
       "      <td>0.997187</td>\n",
       "      <td>1.009631</td>\n",
       "      <td>1.001984</td>\n",
       "      <td>1.004547</td>\n",
       "      <td>1.005565</td>\n",
       "      <td>0.993392</td>\n",
       "      <td>0.996140</td>\n",
       "      <td>0.999894</td>\n",
       "      <td>1.010318</td>\n",
       "      <td>0.985107</td>\n",
       "    </tr>\n",
       "    <tr>\n",
       "      <th>2</th>\n",
       "      <td>0.997773</td>\n",
       "      <td>0.995038</td>\n",
       "      <td>1.005242</td>\n",
       "      <td>1.013131</td>\n",
       "      <td>1.007515</td>\n",
       "      <td>1.042914</td>\n",
       "      <td>1.018492</td>\n",
       "      <td>0.998077</td>\n",
       "      <td>0.998960</td>\n",
       "      <td>1.005676</td>\n",
       "      <td>...</td>\n",
       "      <td>1.007245</td>\n",
       "      <td>1.019342</td>\n",
       "      <td>1.004446</td>\n",
       "      <td>0.997427</td>\n",
       "      <td>1.004143</td>\n",
       "      <td>1.000181</td>\n",
       "      <td>0.982222</td>\n",
       "      <td>0.996427</td>\n",
       "      <td>1.015055</td>\n",
       "      <td>0.984916</td>\n",
       "    </tr>\n",
       "    <tr>\n",
       "      <th>3</th>\n",
       "      <td>0.985097</td>\n",
       "      <td>0.982190</td>\n",
       "      <td>1.008803</td>\n",
       "      <td>0.996791</td>\n",
       "      <td>0.998375</td>\n",
       "      <td>1.052734</td>\n",
       "      <td>1.003559</td>\n",
       "      <td>0.984910</td>\n",
       "      <td>0.993948</td>\n",
       "      <td>1.006899</td>\n",
       "      <td>...</td>\n",
       "      <td>1.011465</td>\n",
       "      <td>1.024038</td>\n",
       "      <td>1.005865</td>\n",
       "      <td>0.987568</td>\n",
       "      <td>0.998269</td>\n",
       "      <td>0.996535</td>\n",
       "      <td>0.980704</td>\n",
       "      <td>0.987010</td>\n",
       "      <td>1.008353</td>\n",
       "      <td>0.985374</td>\n",
       "    </tr>\n",
       "    <tr>\n",
       "      <th>4</th>\n",
       "      <td>0.988881</td>\n",
       "      <td>0.975183</td>\n",
       "      <td>1.017275</td>\n",
       "      <td>0.986021</td>\n",
       "      <td>0.996706</td>\n",
       "      <td>1.059520</td>\n",
       "      <td>0.997597</td>\n",
       "      <td>1.000139</td>\n",
       "      <td>0.999110</td>\n",
       "      <td>1.005224</td>\n",
       "      <td>...</td>\n",
       "      <td>1.014798</td>\n",
       "      <td>1.019917</td>\n",
       "      <td>0.997620</td>\n",
       "      <td>0.981661</td>\n",
       "      <td>0.997218</td>\n",
       "      <td>0.997272</td>\n",
       "      <td>0.974461</td>\n",
       "      <td>0.980603</td>\n",
       "      <td>1.010270</td>\n",
       "      <td>0.971634</td>\n",
       "    </tr>\n",
       "    <tr>\n",
       "      <th>...</th>\n",
       "      <td>...</td>\n",
       "      <td>...</td>\n",
       "      <td>...</td>\n",
       "      <td>...</td>\n",
       "      <td>...</td>\n",
       "      <td>...</td>\n",
       "      <td>...</td>\n",
       "      <td>...</td>\n",
       "      <td>...</td>\n",
       "      <td>...</td>\n",
       "      <td>...</td>\n",
       "      <td>...</td>\n",
       "      <td>...</td>\n",
       "      <td>...</td>\n",
       "      <td>...</td>\n",
       "      <td>...</td>\n",
       "      <td>...</td>\n",
       "      <td>...</td>\n",
       "      <td>...</td>\n",
       "      <td>...</td>\n",
       "      <td>...</td>\n",
       "    </tr>\n",
       "    <tr>\n",
       "      <th>1256</th>\n",
       "      <td>0.730697</td>\n",
       "      <td>2.003402</td>\n",
       "      <td>2.487682</td>\n",
       "      <td>1.146161</td>\n",
       "      <td>1.023797</td>\n",
       "      <td>1.273589</td>\n",
       "      <td>2.168933</td>\n",
       "      <td>1.342370</td>\n",
       "      <td>2.648819</td>\n",
       "      <td>1.109470</td>\n",
       "      <td>...</td>\n",
       "      <td>2.567391</td>\n",
       "      <td>0.682315</td>\n",
       "      <td>0.989801</td>\n",
       "      <td>1.790788</td>\n",
       "      <td>0.656866</td>\n",
       "      <td>2.094811</td>\n",
       "      <td>1.063094</td>\n",
       "      <td>1.766384</td>\n",
       "      <td>1.432123</td>\n",
       "      <td>1.324691</td>\n",
       "    </tr>\n",
       "    <tr>\n",
       "      <th>1257</th>\n",
       "      <td>0.723417</td>\n",
       "      <td>2.002003</td>\n",
       "      <td>2.474740</td>\n",
       "      <td>1.137022</td>\n",
       "      <td>1.021871</td>\n",
       "      <td>1.284199</td>\n",
       "      <td>2.207605</td>\n",
       "      <td>1.326410</td>\n",
       "      <td>2.623818</td>\n",
       "      <td>1.117819</td>\n",
       "      <td>...</td>\n",
       "      <td>2.535702</td>\n",
       "      <td>0.691012</td>\n",
       "      <td>0.983870</td>\n",
       "      <td>1.797169</td>\n",
       "      <td>0.657837</td>\n",
       "      <td>2.105310</td>\n",
       "      <td>1.063798</td>\n",
       "      <td>1.776058</td>\n",
       "      <td>1.443787</td>\n",
       "      <td>1.328869</td>\n",
       "    </tr>\n",
       "    <tr>\n",
       "      <th>1258</th>\n",
       "      <td>0.712908</td>\n",
       "      <td>1.963118</td>\n",
       "      <td>2.483139</td>\n",
       "      <td>1.132867</td>\n",
       "      <td>1.022795</td>\n",
       "      <td>1.284908</td>\n",
       "      <td>2.205486</td>\n",
       "      <td>1.344341</td>\n",
       "      <td>2.621253</td>\n",
       "      <td>1.108204</td>\n",
       "      <td>...</td>\n",
       "      <td>2.524355</td>\n",
       "      <td>0.696721</td>\n",
       "      <td>0.975692</td>\n",
       "      <td>1.789092</td>\n",
       "      <td>0.654310</td>\n",
       "      <td>2.137087</td>\n",
       "      <td>1.063351</td>\n",
       "      <td>1.799617</td>\n",
       "      <td>1.438552</td>\n",
       "      <td>1.324066</td>\n",
       "    </tr>\n",
       "    <tr>\n",
       "      <th>1259</th>\n",
       "      <td>0.719236</td>\n",
       "      <td>1.987944</td>\n",
       "      <td>2.494266</td>\n",
       "      <td>1.132100</td>\n",
       "      <td>1.013977</td>\n",
       "      <td>1.265447</td>\n",
       "      <td>2.209548</td>\n",
       "      <td>1.342340</td>\n",
       "      <td>2.649587</td>\n",
       "      <td>1.112775</td>\n",
       "      <td>...</td>\n",
       "      <td>2.528301</td>\n",
       "      <td>0.693628</td>\n",
       "      <td>0.982817</td>\n",
       "      <td>1.793222</td>\n",
       "      <td>0.641266</td>\n",
       "      <td>2.132356</td>\n",
       "      <td>1.056763</td>\n",
       "      <td>1.802252</td>\n",
       "      <td>1.433404</td>\n",
       "      <td>1.324222</td>\n",
       "    </tr>\n",
       "    <tr>\n",
       "      <th>1260</th>\n",
       "      <td>0.715328</td>\n",
       "      <td>1.999218</td>\n",
       "      <td>2.497659</td>\n",
       "      <td>1.125874</td>\n",
       "      <td>1.000759</td>\n",
       "      <td>1.269043</td>\n",
       "      <td>2.197956</td>\n",
       "      <td>1.340781</td>\n",
       "      <td>2.669570</td>\n",
       "      <td>1.109331</td>\n",
       "      <td>...</td>\n",
       "      <td>2.545200</td>\n",
       "      <td>0.699007</td>\n",
       "      <td>0.976697</td>\n",
       "      <td>1.803507</td>\n",
       "      <td>0.647972</td>\n",
       "      <td>2.142131</td>\n",
       "      <td>1.055893</td>\n",
       "      <td>1.805410</td>\n",
       "      <td>1.432620</td>\n",
       "      <td>1.320337</td>\n",
       "    </tr>\n",
       "  </tbody>\n",
       "</table>\n",
       "<p>1261 rows × 100 columns</p>\n",
       "</div>"
      ],
      "text/plain": [
       "            0         1         2         3         4         5         6   \\\n",
       "0     1.000000  1.000000  1.000000  1.000000  1.000000  1.000000  1.000000   \n",
       "1     0.996621  0.999590  0.997083  0.997377  1.008690  1.014756  1.005734   \n",
       "2     0.997773  0.995038  1.005242  1.013131  1.007515  1.042914  1.018492   \n",
       "3     0.985097  0.982190  1.008803  0.996791  0.998375  1.052734  1.003559   \n",
       "4     0.988881  0.975183  1.017275  0.986021  0.996706  1.059520  0.997597   \n",
       "...        ...       ...       ...       ...       ...       ...       ...   \n",
       "1256  0.730697  2.003402  2.487682  1.146161  1.023797  1.273589  2.168933   \n",
       "1257  0.723417  2.002003  2.474740  1.137022  1.021871  1.284199  2.207605   \n",
       "1258  0.712908  1.963118  2.483139  1.132867  1.022795  1.284908  2.205486   \n",
       "1259  0.719236  1.987944  2.494266  1.132100  1.013977  1.265447  2.209548   \n",
       "1260  0.715328  1.999218  2.497659  1.125874  1.000759  1.269043  2.197956   \n",
       "\n",
       "            7         8         9   ...        90        91        92  \\\n",
       "0     1.000000  1.000000  1.000000  ...  1.000000  1.000000  1.000000   \n",
       "1     1.003246  1.010924  1.002047  ...  0.997187  1.009631  1.001984   \n",
       "2     0.998077  0.998960  1.005676  ...  1.007245  1.019342  1.004446   \n",
       "3     0.984910  0.993948  1.006899  ...  1.011465  1.024038  1.005865   \n",
       "4     1.000139  0.999110  1.005224  ...  1.014798  1.019917  0.997620   \n",
       "...        ...       ...       ...  ...       ...       ...       ...   \n",
       "1256  1.342370  2.648819  1.109470  ...  2.567391  0.682315  0.989801   \n",
       "1257  1.326410  2.623818  1.117819  ...  2.535702  0.691012  0.983870   \n",
       "1258  1.344341  2.621253  1.108204  ...  2.524355  0.696721  0.975692   \n",
       "1259  1.342340  2.649587  1.112775  ...  2.528301  0.693628  0.982817   \n",
       "1260  1.340781  2.669570  1.109331  ...  2.545200  0.699007  0.976697   \n",
       "\n",
       "            93        94        95        96        97        98        99  \n",
       "0     1.000000  1.000000  1.000000  1.000000  1.000000  1.000000  1.000000  \n",
       "1     1.004547  1.005565  0.993392  0.996140  0.999894  1.010318  0.985107  \n",
       "2     0.997427  1.004143  1.000181  0.982222  0.996427  1.015055  0.984916  \n",
       "3     0.987568  0.998269  0.996535  0.980704  0.987010  1.008353  0.985374  \n",
       "4     0.981661  0.997218  0.997272  0.974461  0.980603  1.010270  0.971634  \n",
       "...        ...       ...       ...       ...       ...       ...       ...  \n",
       "1256  1.790788  0.656866  2.094811  1.063094  1.766384  1.432123  1.324691  \n",
       "1257  1.797169  0.657837  2.105310  1.063798  1.776058  1.443787  1.328869  \n",
       "1258  1.789092  0.654310  2.137087  1.063351  1.799617  1.438552  1.324066  \n",
       "1259  1.793222  0.641266  2.132356  1.056763  1.802252  1.433404  1.324222  \n",
       "1260  1.803507  0.647972  2.142131  1.055893  1.805410  1.432620  1.320337  \n",
       "\n",
       "[1261 rows x 100 columns]"
      ]
     },
     "execution_count": 47,
     "metadata": {},
     "output_type": "execute_result"
    }
   ],
   "source": [
    "# Running a Monte Carlo simulation to forecast 5 years cumulative returns\n",
    "# YOUR CODE HERE!\n",
    "MC_5year.calc_cumulative_return()"
   ]
  },
  {
   "cell_type": "code",
   "execution_count": 48,
   "metadata": {},
   "outputs": [
    {
     "data": {
      "image/png": "[encoded data removed]",
      "text/plain": [
       "<Figure size 432x288 with 1 Axes>"
      ]
     },
     "metadata": {
      "needs_background": "light"
     },
     "output_type": "display_data"
    }
   ],
   "source": [
    "# Plot simulation outcomes\n",
    "# YOUR CODE HERE!\n",
    "simulation_plot_5= MC_5year.plot_simulation();"
   ]
  },
  {
   "cell_type": "code",
   "execution_count": 49,
   "metadata": {},
   "outputs": [
    {
     "data": {
      "image/png": "[encoded data removed]",
      "text/plain": [
       "<Figure size 432x288 with 1 Axes>"
      ]
     },
     "metadata": {
      "needs_background": "light"
     },
     "output_type": "display_data"
    }
   ],
   "source": [
    "# Plot probability distribution and confidence intervals\n",
    "# YOUR CODE HERE!\n",
    "plot_dist_int_5 = MC_5year.plot_distribution()"
   ]
  },
  {
   "cell_type": "code",
   "execution_count": 50,
   "metadata": {},
   "outputs": [
    {
     "name": "stdout",
     "output_type": "stream",
     "text": [
      "count           100.000000\n",
      "mean              1.304999\n",
      "std               0.433825\n",
      "min               0.647972\n",
      "25%               1.032641\n",
      "50%               1.251193\n",
      "75%               1.463673\n",
      "max               2.704833\n",
      "95% CI Lower      0.689954\n",
      "95% CI Upper      2.522618\n",
      "Name: 1260, dtype: float64\n"
     ]
    }
   ],
   "source": [
    "# Fetch summary statistics from the Monte Carlo simulation results\n",
    "# YOUR CODE HERE!\n",
    "tbl_5 = MC_5year.summarize_cumulative_return()\n",
    "\n",
    "# Print summary statistics\n",
    "print(tbl_5)"
   ]
  },
  {
   "cell_type": "code",
   "execution_count": 51,
   "metadata": {},
   "outputs": [
    {
     "name": "stdout",
     "output_type": "stream",
     "text": [
      "There is a 95% chance that an initial investment of $30000.0 in the portfolio over the next 5 years will end within in the range of $20698.61 and $75678.54\n"
     ]
    }
   ],
   "source": [
    "# Set initial investment\n",
    "# YOUR CODE HERE!\n",
    "initial_investment_5 = 20000 * 1.5\n",
    "# Use the lower and upper `95%` confidence intervals to calculate the range of the possible outcomes of our $60,000\n",
    "# YOUR CODE HERE!\n",
    "ci_lower_5 = round(tbl_5[8]*initial_investment_5,2)\n",
    "ci_upper_5 = round(tbl_5[9]*initial_investment_5,2)\n",
    "# Print results\n",
    "print(f\"There is a 95% chance that an initial investment of ${initial_investment_5} in the portfolio\"\n",
    "      f\" over the next 5 years will end within in the range of\"\n",
    "      f\" ${ci_lower_5} and ${ci_upper_5}\")"
   ]
  },
  {
   "cell_type": "markdown",
   "metadata": {},
   "source": [
    "### Ten Years Retirement Option"
   ]
  },
  {
   "cell_type": "code",
   "execution_count": 52,
   "metadata": {},
   "outputs": [],
   "source": [
    "# Configuring a Monte Carlo simulation to forecast 10 years cumulative returns\n",
    "# YOUR CODE HERE!\n",
    "MC_10year = MCSimulation(\n",
    "    portfolio_data = df_stock_data,\n",
    "    weights = [.40,.60],\n",
    "    num_simulation = 100,\n",
    "    num_trading_days = 252*10\n",
    ")"
   ]
  },
  {
   "cell_type": "code",
   "execution_count": 53,
   "metadata": {},
   "outputs": [
    {
     "name": "stdout",
     "output_type": "stream",
     "text": [
      "Running Monte Carlo simulation number 0.\n",
      "Running Monte Carlo simulation number 10.\n",
      "Running Monte Carlo simulation number 20.\n",
      "Running Monte Carlo simulation number 30.\n",
      "Running Monte Carlo simulation number 40.\n",
      "Running Monte Carlo simulation number 50.\n",
      "Running Monte Carlo simulation number 60.\n",
      "Running Monte Carlo simulation number 70.\n",
      "Running Monte Carlo simulation number 80.\n",
      "Running Monte Carlo simulation number 90.\n"
     ]
    },
    {
     "data": {
      "text/html": [
       "<div>\n",
       "<style scoped>\n",
       "    .dataframe tbody tr th:only-of-type {\n",
       "        vertical-align: middle;\n",
       "    }\n",
       "\n",
       "    .dataframe tbody tr th {\n",
       "        vertical-align: top;\n",
       "    }\n",
       "\n",
       "    .dataframe thead th {\n",
       "        text-align: right;\n",
       "    }\n",
       "</style>\n",
       "<table border=\"1\" class=\"dataframe\">\n",
       "  <thead>\n",
       "    <tr style=\"text-align: right;\">\n",
       "      <th></th>\n",
       "      <th>0</th>\n",
       "      <th>1</th>\n",
       "      <th>2</th>\n",
       "      <th>3</th>\n",
       "      <th>4</th>\n",
       "      <th>5</th>\n",
       "      <th>6</th>\n",
       "      <th>7</th>\n",
       "      <th>8</th>\n",
       "      <th>9</th>\n",
       "      <th>...</th>\n",
       "      <th>90</th>\n",
       "      <th>91</th>\n",
       "      <th>92</th>\n",
       "      <th>93</th>\n",
       "      <th>94</th>\n",
       "      <th>95</th>\n",
       "      <th>96</th>\n",
       "      <th>97</th>\n",
       "      <th>98</th>\n",
       "      <th>99</th>\n",
       "    </tr>\n",
       "  </thead>\n",
       "  <tbody>\n",
       "    <tr>\n",
       "      <th>0</th>\n",
       "      <td>1.000000</td>\n",
       "      <td>1.000000</td>\n",
       "      <td>1.000000</td>\n",
       "      <td>1.000000</td>\n",
       "      <td>1.000000</td>\n",
       "      <td>1.000000</td>\n",
       "      <td>1.000000</td>\n",
       "      <td>1.000000</td>\n",
       "      <td>1.000000</td>\n",
       "      <td>1.000000</td>\n",
       "      <td>...</td>\n",
       "      <td>1.000000</td>\n",
       "      <td>1.000000</td>\n",
       "      <td>1.000000</td>\n",
       "      <td>1.000000</td>\n",
       "      <td>1.000000</td>\n",
       "      <td>1.000000</td>\n",
       "      <td>1.000000</td>\n",
       "      <td>1.000000</td>\n",
       "      <td>1.000000</td>\n",
       "      <td>1.000000</td>\n",
       "    </tr>\n",
       "    <tr>\n",
       "      <th>1</th>\n",
       "      <td>1.002084</td>\n",
       "      <td>1.002712</td>\n",
       "      <td>1.000717</td>\n",
       "      <td>1.013317</td>\n",
       "      <td>0.994993</td>\n",
       "      <td>0.987871</td>\n",
       "      <td>0.997563</td>\n",
       "      <td>0.989512</td>\n",
       "      <td>1.013232</td>\n",
       "      <td>1.010896</td>\n",
       "      <td>...</td>\n",
       "      <td>0.985631</td>\n",
       "      <td>0.999285</td>\n",
       "      <td>1.007619</td>\n",
       "      <td>1.000227</td>\n",
       "      <td>1.009225</td>\n",
       "      <td>1.007948</td>\n",
       "      <td>0.981287</td>\n",
       "      <td>0.998086</td>\n",
       "      <td>0.994829</td>\n",
       "      <td>0.991670</td>\n",
       "    </tr>\n",
       "    <tr>\n",
       "      <th>2</th>\n",
       "      <td>0.997787</td>\n",
       "      <td>0.994060</td>\n",
       "      <td>1.000453</td>\n",
       "      <td>1.017413</td>\n",
       "      <td>0.990599</td>\n",
       "      <td>0.995049</td>\n",
       "      <td>0.981575</td>\n",
       "      <td>0.998743</td>\n",
       "      <td>0.997306</td>\n",
       "      <td>1.020570</td>\n",
       "      <td>...</td>\n",
       "      <td>0.979824</td>\n",
       "      <td>1.003814</td>\n",
       "      <td>1.019030</td>\n",
       "      <td>1.010023</td>\n",
       "      <td>1.000986</td>\n",
       "      <td>1.002124</td>\n",
       "      <td>0.985244</td>\n",
       "      <td>1.006277</td>\n",
       "      <td>0.981075</td>\n",
       "      <td>0.989711</td>\n",
       "    </tr>\n",
       "    <tr>\n",
       "      <th>3</th>\n",
       "      <td>1.006976</td>\n",
       "      <td>0.981164</td>\n",
       "      <td>1.004032</td>\n",
       "      <td>1.026030</td>\n",
       "      <td>0.979288</td>\n",
       "      <td>0.987072</td>\n",
       "      <td>0.988035</td>\n",
       "      <td>1.007928</td>\n",
       "      <td>1.001161</td>\n",
       "      <td>1.016285</td>\n",
       "      <td>...</td>\n",
       "      <td>0.970847</td>\n",
       "      <td>1.005325</td>\n",
       "      <td>1.017485</td>\n",
       "      <td>1.014005</td>\n",
       "      <td>0.993820</td>\n",
       "      <td>1.002535</td>\n",
       "      <td>0.989557</td>\n",
       "      <td>1.019030</td>\n",
       "      <td>0.992611</td>\n",
       "      <td>0.990461</td>\n",
       "    </tr>\n",
       "    <tr>\n",
       "      <th>4</th>\n",
       "      <td>1.000697</td>\n",
       "      <td>0.975790</td>\n",
       "      <td>1.008961</td>\n",
       "      <td>1.023395</td>\n",
       "      <td>0.975441</td>\n",
       "      <td>0.986983</td>\n",
       "      <td>0.996305</td>\n",
       "      <td>1.004551</td>\n",
       "      <td>0.991959</td>\n",
       "      <td>1.021418</td>\n",
       "      <td>...</td>\n",
       "      <td>0.978844</td>\n",
       "      <td>1.014460</td>\n",
       "      <td>1.017781</td>\n",
       "      <td>1.012818</td>\n",
       "      <td>1.001536</td>\n",
       "      <td>1.010073</td>\n",
       "      <td>0.985075</td>\n",
       "      <td>1.027721</td>\n",
       "      <td>0.990341</td>\n",
       "      <td>0.994267</td>\n",
       "    </tr>\n",
       "    <tr>\n",
       "      <th>...</th>\n",
       "      <td>...</td>\n",
       "      <td>...</td>\n",
       "      <td>...</td>\n",
       "      <td>...</td>\n",
       "      <td>...</td>\n",
       "      <td>...</td>\n",
       "      <td>...</td>\n",
       "      <td>...</td>\n",
       "      <td>...</td>\n",
       "      <td>...</td>\n",
       "      <td>...</td>\n",
       "      <td>...</td>\n",
       "      <td>...</td>\n",
       "      <td>...</td>\n",
       "      <td>...</td>\n",
       "      <td>...</td>\n",
       "      <td>...</td>\n",
       "      <td>...</td>\n",
       "      <td>...</td>\n",
       "      <td>...</td>\n",
       "      <td>...</td>\n",
       "    </tr>\n",
       "    <tr>\n",
       "      <th>2516</th>\n",
       "      <td>6.028959</td>\n",
       "      <td>1.263260</td>\n",
       "      <td>3.046710</td>\n",
       "      <td>1.977986</td>\n",
       "      <td>1.052122</td>\n",
       "      <td>1.075380</td>\n",
       "      <td>2.241160</td>\n",
       "      <td>1.237368</td>\n",
       "      <td>3.658628</td>\n",
       "      <td>1.281759</td>\n",
       "      <td>...</td>\n",
       "      <td>2.069871</td>\n",
       "      <td>1.171405</td>\n",
       "      <td>0.888273</td>\n",
       "      <td>3.305277</td>\n",
       "      <td>1.972100</td>\n",
       "      <td>1.310139</td>\n",
       "      <td>1.803398</td>\n",
       "      <td>1.666992</td>\n",
       "      <td>1.655180</td>\n",
       "      <td>1.438094</td>\n",
       "    </tr>\n",
       "    <tr>\n",
       "      <th>2517</th>\n",
       "      <td>6.124338</td>\n",
       "      <td>1.270213</td>\n",
       "      <td>3.067893</td>\n",
       "      <td>1.970599</td>\n",
       "      <td>1.051843</td>\n",
       "      <td>1.060218</td>\n",
       "      <td>2.222774</td>\n",
       "      <td>1.242889</td>\n",
       "      <td>3.659655</td>\n",
       "      <td>1.300526</td>\n",
       "      <td>...</td>\n",
       "      <td>2.088859</td>\n",
       "      <td>1.169059</td>\n",
       "      <td>0.894899</td>\n",
       "      <td>3.311125</td>\n",
       "      <td>1.976729</td>\n",
       "      <td>1.294818</td>\n",
       "      <td>1.785187</td>\n",
       "      <td>1.638784</td>\n",
       "      <td>1.651829</td>\n",
       "      <td>1.426640</td>\n",
       "    </tr>\n",
       "    <tr>\n",
       "      <th>2518</th>\n",
       "      <td>6.134020</td>\n",
       "      <td>1.294061</td>\n",
       "      <td>3.093094</td>\n",
       "      <td>1.952477</td>\n",
       "      <td>1.067076</td>\n",
       "      <td>1.053623</td>\n",
       "      <td>2.200482</td>\n",
       "      <td>1.242658</td>\n",
       "      <td>3.684338</td>\n",
       "      <td>1.298794</td>\n",
       "      <td>...</td>\n",
       "      <td>2.122235</td>\n",
       "      <td>1.179253</td>\n",
       "      <td>0.898345</td>\n",
       "      <td>3.331609</td>\n",
       "      <td>1.971798</td>\n",
       "      <td>1.299207</td>\n",
       "      <td>1.762088</td>\n",
       "      <td>1.627869</td>\n",
       "      <td>1.666056</td>\n",
       "      <td>1.425399</td>\n",
       "    </tr>\n",
       "    <tr>\n",
       "      <th>2519</th>\n",
       "      <td>6.164206</td>\n",
       "      <td>1.295771</td>\n",
       "      <td>3.080961</td>\n",
       "      <td>1.943244</td>\n",
       "      <td>1.062152</td>\n",
       "      <td>1.052712</td>\n",
       "      <td>2.226809</td>\n",
       "      <td>1.244908</td>\n",
       "      <td>3.632039</td>\n",
       "      <td>1.296177</td>\n",
       "      <td>...</td>\n",
       "      <td>2.120917</td>\n",
       "      <td>1.161225</td>\n",
       "      <td>0.901610</td>\n",
       "      <td>3.353422</td>\n",
       "      <td>1.966780</td>\n",
       "      <td>1.300494</td>\n",
       "      <td>1.748484</td>\n",
       "      <td>1.632565</td>\n",
       "      <td>1.660411</td>\n",
       "      <td>1.421425</td>\n",
       "    </tr>\n",
       "    <tr>\n",
       "      <th>2520</th>\n",
       "      <td>6.118700</td>\n",
       "      <td>1.305745</td>\n",
       "      <td>3.070900</td>\n",
       "      <td>1.963512</td>\n",
       "      <td>1.061658</td>\n",
       "      <td>1.030826</td>\n",
       "      <td>2.213627</td>\n",
       "      <td>1.243063</td>\n",
       "      <td>3.638965</td>\n",
       "      <td>1.290480</td>\n",
       "      <td>...</td>\n",
       "      <td>2.128990</td>\n",
       "      <td>1.156242</td>\n",
       "      <td>0.893403</td>\n",
       "      <td>3.344555</td>\n",
       "      <td>1.942641</td>\n",
       "      <td>1.297889</td>\n",
       "      <td>1.726456</td>\n",
       "      <td>1.632792</td>\n",
       "      <td>1.642724</td>\n",
       "      <td>1.411015</td>\n",
       "    </tr>\n",
       "  </tbody>\n",
       "</table>\n",
       "<p>2521 rows × 100 columns</p>\n",
       "</div>"
      ],
      "text/plain": [
       "            0         1         2         3         4         5         6   \\\n",
       "0     1.000000  1.000000  1.000000  1.000000  1.000000  1.000000  1.000000   \n",
       "1     1.002084  1.002712  1.000717  1.013317  0.994993  0.987871  0.997563   \n",
       "2     0.997787  0.994060  1.000453  1.017413  0.990599  0.995049  0.981575   \n",
       "3     1.006976  0.981164  1.004032  1.026030  0.979288  0.987072  0.988035   \n",
       "4     1.000697  0.975790  1.008961  1.023395  0.975441  0.986983  0.996305   \n",
       "...        ...       ...       ...       ...       ...       ...       ...   \n",
       "2516  6.028959  1.263260  3.046710  1.977986  1.052122  1.075380  2.241160   \n",
       "2517  6.124338  1.270213  3.067893  1.970599  1.051843  1.060218  2.222774   \n",
       "2518  6.134020  1.294061  3.093094  1.952477  1.067076  1.053623  2.200482   \n",
       "2519  6.164206  1.295771  3.080961  1.943244  1.062152  1.052712  2.226809   \n",
       "2520  6.118700  1.305745  3.070900  1.963512  1.061658  1.030826  2.213627   \n",
       "\n",
       "            7         8         9   ...        90        91        92  \\\n",
       "0     1.000000  1.000000  1.000000  ...  1.000000  1.000000  1.000000   \n",
       "1     0.989512  1.013232  1.010896  ...  0.985631  0.999285  1.007619   \n",
       "2     0.998743  0.997306  1.020570  ...  0.979824  1.003814  1.019030   \n",
       "3     1.007928  1.001161  1.016285  ...  0.970847  1.005325  1.017485   \n",
       "4     1.004551  0.991959  1.021418  ...  0.978844  1.014460  1.017781   \n",
       "...        ...       ...       ...  ...       ...       ...       ...   \n",
       "2516  1.237368  3.658628  1.281759  ...  2.069871  1.171405  0.888273   \n",
       "2517  1.242889  3.659655  1.300526  ...  2.088859  1.169059  0.894899   \n",
       "2518  1.242658  3.684338  1.298794  ...  2.122235  1.179253  0.898345   \n",
       "2519  1.244908  3.632039  1.296177  ...  2.120917  1.161225  0.901610   \n",
       "2520  1.243063  3.638965  1.290480  ...  2.128990  1.156242  0.893403   \n",
       "\n",
       "            93        94        95        96        97        98        99  \n",
       "0     1.000000  1.000000  1.000000  1.000000  1.000000  1.000000  1.000000  \n",
       "1     1.000227  1.009225  1.007948  0.981287  0.998086  0.994829  0.991670  \n",
       "2     1.010023  1.000986  1.002124  0.985244  1.006277  0.981075  0.989711  \n",
       "3     1.014005  0.993820  1.002535  0.989557  1.019030  0.992611  0.990461  \n",
       "4     1.012818  1.001536  1.010073  0.985075  1.027721  0.990341  0.994267  \n",
       "...        ...       ...       ...       ...       ...       ...       ...  \n",
       "2516  3.305277  1.972100  1.310139  1.803398  1.666992  1.655180  1.438094  \n",
       "2517  3.311125  1.976729  1.294818  1.785187  1.638784  1.651829  1.426640  \n",
       "2518  3.331609  1.971798  1.299207  1.762088  1.627869  1.666056  1.425399  \n",
       "2519  3.353422  1.966780  1.300494  1.748484  1.632565  1.660411  1.421425  \n",
       "2520  3.344555  1.942641  1.297889  1.726456  1.632792  1.642724  1.411015  \n",
       "\n",
       "[2521 rows x 100 columns]"
      ]
     },
     "execution_count": 53,
     "metadata": {},
     "output_type": "execute_result"
    }
   ],
   "source": [
    "# Running a Monte Carlo simulation to forecast 10 years cumulative returns\n",
    "# YOUR CODE HERE!\n",
    "MC_10year.calc_cumulative_return()"
   ]
  },
  {
   "cell_type": "code",
   "execution_count": 54,
   "metadata": {},
   "outputs": [
    {
     "data": {
      "image/png": "[encoded data removed]",
      "text/plain": [
       "<Figure size 432x288 with 1 Axes>"
      ]
     },
     "metadata": {
      "needs_background": "light"
     },
     "output_type": "display_data"
    }
   ],
   "source": [
    "# Plot simulation outcomes\n",
    "# YOUR CODE HERE!\n",
    "simulation_plot_10= MC_10year.plot_simulation();"
   ]
  },
  {
   "cell_type": "code",
   "execution_count": 55,
   "metadata": {},
   "outputs": [
    {
     "data": {
      "image/png": "[encoded data removed]",
      "text/plain": [
       "<Figure size 432x288 with 1 Axes>"
      ]
     },
     "metadata": {
      "needs_background": "light"
     },
     "output_type": "display_data"
    }
   ],
   "source": [
    "# Plot probability distribution and confidence intervals\n",
    "# YOUR CODE HERE!\n",
    "plot_dist_int_10 = MC_10year.plot_distribution();"
   ]
  },
  {
   "cell_type": "code",
   "execution_count": 56,
   "metadata": {},
   "outputs": [
    {
     "name": "stdout",
     "output_type": "stream",
     "text": [
      "count           100.000000\n",
      "mean              1.806751\n",
      "std               0.787290\n",
      "min               0.608536\n",
      "25%               1.300375\n",
      "50%               1.690295\n",
      "75%               2.213680\n",
      "max               6.118700\n",
      "95% CI Lower      0.692050\n",
      "95% CI Upper      3.650125\n",
      "Name: 2520, dtype: float64\n"
     ]
    }
   ],
   "source": [
    "# Fetch summary statistics from the Monte Carlo simulation results\n",
    "# YOUR CODE HERE!\n",
    "tbl_10 = MC_10year.summarize_cumulative_return()\n",
    "\n",
    "# Print summary statistics\n",
    "print(tbl_10)"
   ]
  },
  {
   "cell_type": "code",
   "execution_count": 57,
   "metadata": {},
   "outputs": [
    {
     "name": "stdout",
     "output_type": "stream",
     "text": [
      "There is a 95% chance that an initial investment of $30000.0 in the portfolio over the next 10 years will end within in the range of $20761.49 and $109503.75\n"
     ]
    }
   ],
   "source": [
    "# Set initial investment\n",
    "# YOUR CODE HERE!\n",
    "initial_investment_10 = 20000 * 1.5\n",
    "\n",
    "# Use the lower and upper `95%` confidence intervals to calculate the range of the possible outcomes of our $60,000\n",
    "# YOUR CODE HERE!\n",
    "ci_lower_10 = round(tbl_10[8]*initial_investment_10,2)\n",
    "ci_upper_10 = round(tbl_10[9]*initial_investment_10,2)\n",
    "\n",
    "# Print results\n",
    "print(f\"There is a 95% chance that an initial investment of ${initial_investment_10} in the portfolio\"\n",
    "      f\" over the next 10 years will end within in the range of\"\n",
    "      f\" ${ci_lower_10} and ${ci_upper_10}\")"
   ]
  },
  {
   "cell_type": "code",
   "execution_count": null,
   "metadata": {},
   "outputs": [],
   "source": []
  }
 ],
 "metadata": {
  "kernelspec": {
   "display_name": "Python 3",
   "language": "python",
   "name": "python3"
  },
  "language_info": {
   "codemirror_mode": {
    "name": "ipython",
    "version": 3
   },
   "file_extension": ".py",
   "mimetype": "text/x-python",
   "name": "python",
   "nbconvert_exporter": "python",
   "pygments_lexer": "ipython3",
   "version": "3.7.7"
  }
 },
 "nbformat": 4,
 "nbformat_minor": 4
}
