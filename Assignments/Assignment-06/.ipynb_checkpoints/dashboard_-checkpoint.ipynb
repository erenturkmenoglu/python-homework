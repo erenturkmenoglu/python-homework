{
 "cells": [
  {
   "cell_type": "code",
   "execution_count": null,
   "metadata": {},
   "outputs": [],
   "source": [
    "# initial imports\n",
    "import os\n",
    "import pandas as pd\n",
    "import matplotlib.pyplot as plt\n",
    "import hvplot.pandas\n",
    "import panel as pn\n",
    "import plotly.express as px\n",
    "from pathlib import Path\n",
    "from dotenv import load_dotenv"
   ]
  },
  {
   "cell_type": "code",
   "execution_count": null,
   "metadata": {},
   "outputs": [],
   "source": [
    "# Initialize the Panel Extensions (for Plotly)\n",
    "pn.extension('plotly')"
   ]
  },
  {
   "cell_type": "code",
   "execution_count": null,
   "metadata": {},
   "outputs": [],
   "source": [
    "# Read the Mapbox API key\n",
    "load_dotenv()\n",
    "mapbox_token = os.getenv(\"mapbox\")"
   ]
  },
  {
   "cell_type": "code",
   "execution_count": null,
   "metadata": {},
   "outputs": [],
   "source": [
    "# Import the CSVs to Pandas DataFrames\n",
    "file_path = Path(\"Data/sfo_neighborhoods_census_data.csv\")\n",
    "sfo_data = pd.read_csv(file_path, index_col=\"year\")\n",
    "\n",
    "file_path = Path(\"Data/neighborhoods_coordinates.csv\")\n",
    "df_neighborhood_locations = pd.read_csv(file_path)"
   ]
  },
  {
   "cell_type": "code",
   "execution_count": null,
   "metadata": {},
   "outputs": [],
   "source": [
    "# Define Panel Visualization Functions\n",
    "def housing_units_per_year():\n",
    "    \"\"\"Housing Units Per Year\"\"\"\n",
    "    housing_per_year = sfo_data['housing_units']\n",
    "    housing_units_per_year = housing_per_year.plot(kind='line', title='Housing Units Per Year')\n",
    "    return housing_units_per_year\n",
    "\n",
    "def average_gross_rent():\n",
    "    \"\"\"Average Gross Rent in San Francisco Per Year.\"\"\"\n",
    "    avg_gross_rent = sfo_data['gross_rent']\n",
    "    average_gross_rent = avg_gross_rent.plot(kind='line', title='Average Gross Rent in San Francisco Per Year', figsize=(30,10))\n",
    "    return average_gross_rent\n",
    "\n",
    "def average_sales_price():\n",
    "    \"\"\"Average Sales Price Per Year.\"\"\"\n",
    "    avg_sales_price = sfo_data['sale_price_sqr_foot']\n",
    "    average_sales_price = avg_sales_price.plot(kind='line', title='Average Sales Price Per Year')\n",
    "    return average_sales_price\n",
    "\n",
    "def average_price_by_neighborhood():\n",
    "    \"\"\"Average Prices by Neighborhood.\"\"\"\n",
    "    #avg_prices_by_nbh = sfo_data.groupby(['year','neighborhood'])['sale_price_sqr_foot'].mean()\n",
    "    #avg_prices_by_nbh.plot(kind='line', title='Average Price by Neighborhood', figsize=(20,7))\n",
    "    \n",
    "    avg_price_neighborhood = sfo_data['sale_price_sqr_foot']\n",
    "    average_price_by_neighborhood = avg_price_neighborhood.plot(kind='line', title='Average Sales Price Per Neighborhood', figsize=(20, 8))\n",
    "    return average_price_by_neighborhood\n",
    "    \n",
    "def top_most_expensive_neighborhoods():\n",
    "    \"\"\"Top 10 Most Expensive Neighborhoods.\"\"\"\n",
    "    mean_sale_price = sfo_data.reset_index()\n",
    "    mean_sale_price.drop(labels='index', axis=1)\n",
    "    top_ten = mean_sale_price.groupby('neighborhood').mean().sort_values('sale_price_sqr_foot', ascending=False)\n",
    "    top_ten_most_expensive = top_ten.hvplot.bar(x='neighborhood', y='sale_price_sqr_foot',\n",
    "                       xlabel='San Francisco Neighboorhood', ylabel='$/sqft', \n",
    "                       rot=45, title='Top 10 Expensive Neighboorhoods in San Francisco, CA')\n",
    "    return top_most_expensive_neighborhoods\n",
    "    \n",
    "def parallel_coordinates():\n",
    "    \"\"\"Parallel Coordinates Plot.\"\"\"\n",
    "    mean_sale_price = sfo_data.reset_index()\n",
    "    #mean_sale_price.drop(labels='index', axis=1)\n",
    "    top_ten = mean_sale_price.groupby('neighborhood').mean().sort_values('sale_price_sqr_foot', ascending=False)\n",
    "    top_ten_px_data = top_ten[['sale_price_sqr_foot', 'housing_units', 'gross_rent']]\n",
    "    fig1 = px.parallel_coordinates(top_ten_px_data, color='sale_price_sqr_foot', color_continuous_scale=px.colors.sequential.Inferno,\n",
    "                        labels={\"sale_price_sqr_foot\": \"$/sqft\", \"housing_units\": \"Housing Units\", \"gross_rent\": \"Gross Rent\"})\n",
    "    parallel_coordinates = fig1.show()\n",
    "    return parallel_coordinates\n",
    "\n",
    "def parallel_categories():\n",
    "    \"\"\"Parallel Categories Plot.\"\"\"\n",
    "    mean_sale_price = sfo_data.reset_index()\n",
    "    top_ten = mean_sale_price.groupby('neighborhood').mean().sort_values('sale_price_sqr_foot', ascending=False)\n",
    "    fig2 = px.parallel_categories(top_ten, color='sale_price_sqr_foot', color_continuous_scale=px.colors.sequential.Inferno,\n",
    "                        labels={\"neighboorhood\": \"neighborhood\", \"sale_price_sqr_foot\": \"$/sqft\", \"housing_units\": \"Housing Units\", \"gross_rent\": \"Gross Rent\"})\n",
    "    parallel_categories = fig2.show()\n",
    "    return parallel_categories\n",
    "\n",
    "\n",
    "def neighborhood_map():\n",
    "    \"\"\"Neighborhood Map\"\"\"\n",
    "    sfo_data.reset_index(drop=True, inplace=True)\n",
    "    df_neighborhood_locations.reset_index(drop=True, inplace=True)\n",
    "    combined_df = pd.concat([sfo_data, df_neighborhood_locations], sort=False, axis=1)\n",
    "\n",
    "    fig3 = px.scatter_mapbox(combined_df, lat='Lat', lon='Lon', color='gross_rent', zoom=10,\n",
    "                         text = combined_df.index,\n",
    "                         title='Gross Rent in San Francisco, CA')\n",
    "    neighborhood_map = fig3.show()\n",
    "    return neighborhood_map"
   ]
  },
  {
   "cell_type": "code",
   "execution_count": null,
   "metadata": {},
   "outputs": [],
   "source": [
    "# Creating the panel dashboard\n",
    "housing = pn.Column(\n",
    "    \"##San Francisco Housing Plots\", housing_units_per_year, average_gross_rent, average_sales_price\n",
    ")\n",
    "neighborhood = pn.Column(\n",
    "    \"##San Francisco Housing by Neighborhood\", average_price_by_neighborhood\n",
    ")\n",
    "#  ^top_most_expensive_neighborhoods\n",
    "\n",
    "\n",
    "#  Because of a Recursion Error I was getting,\n",
    "#  I failed to add top_most_expensive_neighborhoods column into my dashboard...\n",
    "## RecursionError: maximum recursion depth exceeded while calling a Python object\n",
    "\n",
    "map_features = pn.Column(\n",
    "    \"##San Francisco Housing Statistics and Map Features\", parallel_coordinates, parallel_categories, neighborhood_map)\n",
    "\n",
    "dashboard_tabs = pn.Tabs(\n",
    "    (\"Housing\", housing),(\"Neigborhoods\", neighborhood), (\"PCs & MapBox\", map_features))"
   ]
  },
  {
   "cell_type": "code",
   "execution_count": null,
   "metadata": {},
   "outputs": [],
   "source": [
    "dashboard_tabs.servable()"
   ]
  }
 ],
 "metadata": {
  "kernelspec": {
   "display_name": "Python 3",
   "language": "python",
   "name": "python3"
  },
  "language_info": {
   "codemirror_mode": {
    "name": "ipython",
    "version": 3
   },
   "file_extension": ".py",
   "mimetype": "text/x-python",
   "name": "python",
   "nbconvert_exporter": "python",
   "pygments_lexer": "ipython3",
   "version": "3.7.4"
  }
 },
 "nbformat": 4,
 "nbformat_minor": 4
}
