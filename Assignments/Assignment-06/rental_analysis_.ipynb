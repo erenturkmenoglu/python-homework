{
 "cells": [
  {
   "cell_type": "code",
   "execution_count": null,
   "metadata": {},
   "outputs": [],
   "source": [
    "# initial imports\n",
    "import os\n",
    "import pandas as pd\n",
    "import matplotlib.pyplot as plt\n",
    "import hvplot.pandas\n",
    "import plotly.express as px\n",
    "from pathlib import Path\n",
    "from dotenv import load_dotenv\n",
    "\n",
    "%matplotlib inline"
   ]
  },
  {
   "cell_type": "code",
   "execution_count": null,
   "metadata": {},
   "outputs": [],
   "source": [
    "# Read the Mapbox API key\n",
    "load_dotenv()\n",
    "map_box_api = os.getenv(\"mapbox\")\n",
    "px.set_mapbox_access_token(map_box_api)"
   ]
  },
  {
   "cell_type": "code",
   "execution_count": null,
   "metadata": {},
   "outputs": [],
   "source": [
    "# Read the census data into a Pandas DataFrame\n",
    "file_path = Path(\"Data/sfo_neighborhoods_census_data.csv\")\n",
    "sfo_data = pd.read_csv(file_path, index_col=\"year\")\n",
    "sfo_data.head()"
   ]
  },
  {
   "cell_type": "code",
   "execution_count": null,
   "metadata": {},
   "outputs": [],
   "source": [
    "# Calculate the mean number of housing units per year (hint: use groupby)\n",
    "housing_units = sfo_data['housing_units'].groupby(sfo_data.index).mean()\n",
    "print(housing_units)\n",
    "housing_units.plot(kind='bar')"
   ]
  },
  {
   "cell_type": "code",
   "execution_count": null,
   "metadata": {},
   "outputs": [],
   "source": [
    "# Use the Pandas plot function to plot the average housing units per year.\n",
    "# Note: You will need to manually adjust the y limit of the chart using the min and max\n",
    "fig_housing_units = housing_units.plot(kind='bar', \n",
    "                         ylim=(min(housing_units)*.99, max(housing_units)*1.01), \n",
    "                         title='Housing Units in San Francisco from 2010 to 2016')\n",
    "\n",
    "## ylim(limits) sets the y-axis limits for the current axes or chart. \n",
    "## Specify limits as a two-element vector of the form [ymin ymax], where ymax is greater than ymin."
   ]
  },
  {
   "cell_type": "code",
   "execution_count": null,
   "metadata": {},
   "outputs": [],
   "source": [
    "# Calculate the average gross rent and average sale price per square foot.\n",
    "avg_price = sfo_data[['sale_price_sqr_foot', 'gross_rent']].groupby(sfo_data.index).mean()\n",
    "avg_price"
   ]
  },
  {
   "cell_type": "code",
   "execution_count": null,
   "metadata": {},
   "outputs": [],
   "source": [
    "# Plot the Average Sales Price per Year as a line chart.\n",
    "avg_price['sale_price_sqr_foot'].plot(kind='line', title='Average Sale Price per Square Foot in San Francisco');"
   ]
  },
  {
   "cell_type": "code",
   "execution_count": null,
   "metadata": {},
   "outputs": [],
   "source": [
    "# Group by year and neighborhood and then create a new dataframe of the mean values.\n",
    "avg_prices_by_nbh = sfo_data.reset_index()\n",
    "avg_prices_by_nbh = avg_prices_by_nbh.groupby(['year','neighborhood']).mean()\n",
    "avg_prices_by_nbh"
   ]
  },
  {
   "cell_type": "code",
   "execution_count": null,
   "metadata": {},
   "outputs": [],
   "source": [
    "# Use hvplot to create an interactive line chart of the average price per sq ft.\n",
    "# The plot should have a dropdown selector for the neighborhood\n",
    "avg_prices_by_nbh.hvplot.line(x='year', y='sale_price_sqr_foot')"
   ]
  },
  {
   "cell_type": "code",
   "execution_count": null,
   "metadata": {},
   "outputs": [],
   "source": [
    "# Getting the data for all neighborhoods\n",
    "mean_sale_price = sfo_data.reset_index()\n",
    "mean_sale_price = mean_sale_price.drop(labels=['year'], axis=1)\n",
    "mean_sale_price = mean_sale_price.groupby('neighborhood').mean().sort_values('sale_price_sqr_foot', ascending=False)\n",
    "# Getting the data from the top 10 expensive neighborhoods\n",
    "top_ten = mean_sale_price.head(10)\n",
    "top_ten.reset_index(inplace=True)\n",
    "top_ten"
   ]
  },
  {
   "cell_type": "code",
   "execution_count": null,
   "metadata": {},
   "outputs": [],
   "source": [
    "# Plotting the data from the top 10 expensive neighborhoods\n",
    "top_ten.hvplot.bar(x='neighborhood', y='sale_price_sqr_foot', xlabel='San Francisco Neighboorhood', ylabel='$/sqft', \n",
    "                   rot=45, title='Top 10 Expensive Neighboorhoods in San Francisco, CA')"
   ]
  },
  {
   "cell_type": "code",
   "execution_count": null,
   "metadata": {},
   "outputs": [],
   "source": [
    "# Parallel coordinates plot\n",
    "top_ten_px_data = top_ten[['sale_price_sqr_foot', 'housing_units', 'gross_rent']]\n",
    "fig = px.parallel_coordinates(top_ten_px_data, color='sale_price_sqr_foot', color_continuous_scale=px.colors.sequential.Inferno,\n",
    "                        labels={\"sale_price_sqr_foot\": \"$/sqft\", \"housing_units\": \"Housing Units\", \"gross_rent\": \"Gross Rent\"})\n",
    "fig.show()"
   ]
  },
  {
   "cell_type": "code",
   "execution_count": null,
   "metadata": {},
   "outputs": [],
   "source": [
    "fig = px.parallel_categories(top_ten, color='sale_price_sqr_foot', color_continuous_scale=px.colors.sequential.Inferno,\n",
    "                        labels={\"neighboorhood\": \"neighborhood\", \"sale_price_sqr_foot\": \"$/sqft\", \"housing_units\": \"Housing Units\", \"gross_rent\": \"Gross Rent\"})\n",
    "fig.show()"
   ]
  },
  {
   "cell_type": "code",
   "execution_count": null,
   "metadata": {},
   "outputs": [],
   "source": [
    "# Neighborhood Map\n",
    "file_path = Path(\"Data/neighborhoods_coordinates.csv\")\n",
    "df_neighborhood_locations = pd.read_csv(file_path)\n",
    "df_neighborhood_locations.set_index('Neighborhood', inplace=True)\n",
    "df_neighborhood_locations.head()"
   ]
  },
  {
   "cell_type": "code",
   "execution_count": null,
   "metadata": {},
   "outputs": [],
   "source": [
    "mean_sale_price.sort_index(inplace=True)\n",
    "mean_sale_price.head()"
   ]
  },
  {
   "cell_type": "code",
   "execution_count": null,
   "metadata": {},
   "outputs": [],
   "source": [
    "avg_values_by_nbh = pd.concat([df_neighborhood_locations, mean_sale_price], sort=False, axis=1)\n",
    "avg_values_by_nbh.dropna(inplace=True)\n",
    "avg_values_by_nbh.head()"
   ]
  },
  {
   "cell_type": "code",
   "execution_count": null,
   "metadata": {},
   "outputs": [],
   "source": [
    "fig2 = px.scatter_mapbox(avg_values_by_nbh, lat='Lat', lon='Lon', color='gross_rent', zoom=10,\n",
    "                         text = avg_values_by_nbh.index,\n",
    "                         title='Gross Rent in San Francisco, CA')\n",
    "fig2.show()"
   ]
  }
 ],
 "metadata": {
  "kernelspec": {
   "display_name": "Python 3",
   "language": "python",
   "name": "python3"
  },
  "language_info": {
   "codemirror_mode": {
    "name": "ipython",
    "version": 3
   },
   "file_extension": ".py",
   "mimetype": "text/x-python",
   "name": "python",
   "nbconvert_exporter": "python",
   "pygments_lexer": "ipython3",
   "version": "3.7.4"
  }
 },
 "nbformat": 4,
 "nbformat_minor": 4
}
