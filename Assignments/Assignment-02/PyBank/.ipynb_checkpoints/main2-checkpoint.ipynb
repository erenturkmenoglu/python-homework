{
 "cells": [
  {
   "cell_type": "code",
   "execution_count": 38,
   "metadata": {},
   "outputs": [
    {
     "name": "stdout",
     "output_type": "stream",
     "text": [
      "Financial Analysis\n",
      "-------------------------------\n",
      "Total Months: 86\n",
      "Total: $ 38382578\n",
      "Average Change: $ 446309.0465116279\n",
      "Greatest Increase in Profits:\n",
      "Greatest Decrease in Profits:\n"
     ]
    }
   ],
   "source": []
  },
  {
   "cell_type": "code",
   "execution_count": null,
   "metadata": {},
   "outputs": [],
   "source": [
    "# Import required packages\n",
    "import csv\n",
    "import os\n",
    "\n",
    "# The total number of months included in the dataset.\n",
    "# Count the number of rows.\n",
    "file = open(\"/Users/erenturkmenoglu/Desktop/homework_02-Python_Instructions_PyBank.csv\")\n",
    "reader = csv.reader(file)\n",
    "lines = len(list(reader))\n",
    "print(lines)\n",
    "\n",
    "# The net total amount of Profit/Losses over the entire period.\n",
    "# Add up the values in columns.\n"
   ]
  }
 ],
 "metadata": {
  "kernelspec": {
   "display_name": "Python 3",
   "language": "python",
   "name": "python3"
  },
  "language_info": {
   "codemirror_mode": {
    "name": "ipython",
    "version": 3
   },
   "file_extension": ".py",
   "mimetype": "text/x-python",
   "name": "python",
   "nbconvert_exporter": "python",
   "pygments_lexer": "ipython3",
   "version": "3.7.4"
  }
 },
 "nbformat": 4,
 "nbformat_minor": 4
}
