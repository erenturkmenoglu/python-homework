{
 "cells": [
  {
   "cell_type": "code",
   "execution_count": 38,
   "metadata": {},
   "outputs": [],
   "source": [
    "import os\n",
    "import csv\n",
    "from pathlib import Path\n",
    "#import numpy as np\n",
    "#import pandas as pd"
   ]
  },
  {
   "cell_type": "code",
   "execution_count": 19,
   "metadata": {},
   "outputs": [],
   "source": [
    "budget_csv = Path(\"budget_data.csv\")"
   ]
  },
  {
   "cell_type": "code",
   "execution_count": 40,
   "metadata": {},
   "outputs": [],
   "source": [
    "with open(budget_csv, 'r') as csvfile:\n",
    "    csvreader = csv.DictReader(csvfile, delimiter=\",\")\n",
    "    totals = []\n",
    "    for row_count, row in enumerate(csvreader, start=1):\n",
    "        value = int(row['Profit/Losses'])\n",
    "        totals.append(value)"
   ]
  },
  {
   "cell_type": "code",
   "execution_count": 48,
   "metadata": {},
   "outputs": [],
   "source": [
    "#max = max(csvreader, key=lambda column: int(column[2].replace(',','')))\n",
    "#min = min(csvreader, key=lambda column: int(column[2].replace(',','')))\n",
    "#max_value = max(csvreader, key = lambda row:int(row[2]))"
   ]
  },
  {
   "cell_type": "code",
   "execution_count": 25,
   "metadata": {},
   "outputs": [],
   "source": [
    "#budget_csv = np.loadtxt(\"budget_data.csv\", delimiter=',', usecols=(0,1,2)\n",
    "\n",
    "#min_min_T = np.min(data[:, 0])\n",
    "#max_max_T = np.max(data[:, 1])"
   ]
  },
  {
   "cell_type": "code",
   "execution_count": 50,
   "metadata": {},
   "outputs": [
    {
     "name": "stdout",
     "output_type": "stream",
     "text": [
      "Financial Analysis\n",
      "-------------------------------\n",
      "Total Months: 86\n",
      "Total: $ 38382578\n",
      "Average Change: $ 446309.0465116279\n",
      "Greatest Increase in Profits:\n",
      "Greatest Decrease in Profits:\n"
     ]
    },
    {
     "ename": "NameError",
     "evalue": "name 'max_value' is not defined",
     "output_type": "error",
     "traceback": [
      "\u001b[0;31m---------------------------------------------------------------------------\u001b[0m",
      "\u001b[0;31mNameError\u001b[0m                                 Traceback (most recent call last)",
      "\u001b[0;32m<ipython-input-50-d7311b9d7315>\u001b[0m in \u001b[0;36m<module>\u001b[0;34m\u001b[0m\n\u001b[1;32m      6\u001b[0m \u001b[0mprint\u001b[0m\u001b[0;34m(\u001b[0m\u001b[0;34m\"Greatest Increase in Profits:\"\u001b[0m\u001b[0;34m)\u001b[0m\u001b[0;34m\u001b[0m\u001b[0;34m\u001b[0m\u001b[0m\n\u001b[1;32m      7\u001b[0m \u001b[0mprint\u001b[0m\u001b[0;34m(\u001b[0m\u001b[0;34m\"Greatest Decrease in Profits:\"\u001b[0m\u001b[0;34m)\u001b[0m\u001b[0;34m\u001b[0m\u001b[0;34m\u001b[0m\u001b[0m\n\u001b[0;32m----> 8\u001b[0;31m \u001b[0mprint\u001b[0m\u001b[0;34m(\u001b[0m\u001b[0;34mf\"Greatest Increase in Profits: $ {max_value}\"\u001b[0m\u001b[0;34m)\u001b[0m\u001b[0;31m#.format(int(min))\u001b[0m\u001b[0;34m\u001b[0m\u001b[0;34m\u001b[0m\u001b[0m\n\u001b[0m\u001b[1;32m      9\u001b[0m \u001b[0mprint\u001b[0m\u001b[0;34m(\u001b[0m\u001b[0;34mf\"Greatest Decrease in Profits: $ {min_valie}\"\u001b[0m\u001b[0;34m)\u001b[0m\u001b[0;31m#.format(int(min))\u001b[0m\u001b[0;34m\u001b[0m\u001b[0;34m\u001b[0m\u001b[0m\n",
      "\u001b[0;31mNameError\u001b[0m: name 'max_value' is not defined"
     ]
    }
   ],
   "source": [
    "print(\"Financial Analysis\")\n",
    "print(\"-------------------------------\")\n",
    "print(\"Total Months: {}\".format(row_count))\n",
    "print(\"Total: $ {}\".format(sum(totals)))\n",
    "print(\"Average Change: $ {}\".format(sum(totals)/row_count))\n",
    "print(\"Greatest Increase in Profits:\")\n",
    "print(\"Greatest Decrease in Profits:\")\n",
    "print(f\"Greatest Increase in Profits: $ {max_value}\")#.format(int(min))\n",
    "print(f\"Greatest Decrease in Profits: $ {min_valie}\")#.format(int(min))"
   ]
  },
  {
   "cell_type": "code",
   "execution_count": null,
   "metadata": {},
   "outputs": [],
   "source": [
    "#.format(max_value))"
   ]
  },
  {
   "cell_type": "code",
   "execution_count": 15,
   "metadata": {},
   "outputs": [],
   "source": [
    "output_file = os.path.join(\"Analysis.txt\")"
   ]
  },
  {
   "cell_type": "code",
   "execution_count": 52,
   "metadata": {},
   "outputs": [
    {
     "ename": "SyntaxError",
     "evalue": "f-string: empty expression not allowed (<ipython-input-52-da299e1b9bbd>, line 7)",
     "output_type": "error",
     "traceback": [
      "\u001b[0;36m  File \u001b[0;32m\"<ipython-input-52-da299e1b9bbd>\"\u001b[0;36m, line \u001b[0;32m7\u001b[0m\n\u001b[0;31m    text_file.write (f\"Total: $ {}\".format(sum(totals))/row_count)\u001b[0m\n\u001b[0m                    ^\u001b[0m\n\u001b[0;31mSyntaxError\u001b[0m\u001b[0;31m:\u001b[0m f-string: empty expression not allowed\n"
     ]
    }
   ],
   "source": [
    "#  Open the output file\n",
    "with open(output_file, \"w\") as text_file:\n",
    "    text_file.write (\"Financial Analysis\\n\")\n",
    "    text_file.write (\"-------------------------------\\n\")\n",
    "    text_file.write (\"Total Months: {}\\n\".format(row_count))\n",
    "    text_file.write (\"Total: $ {}\".format(sum(totals)))\n",
    "    text_file.write (f\"Total: $ {}\".format(sum(totals))/row_count)"
   ]
  },
  {
   "cell_type": "code",
   "execution_count": null,
   "metadata": {},
   "outputs": [],
   "source": []
  }
 ],
 "metadata": {
  "kernelspec": {
   "display_name": "Python 3",
   "language": "python",
   "name": "python3"
  },
  "language_info": {
   "codemirror_mode": {
    "name": "ipython",
    "version": 3
   },
   "file_extension": ".py",
   "mimetype": "text/x-python",
   "name": "python",
   "nbconvert_exporter": "python",
   "pygments_lexer": "ipython3",
   "version": "3.7.4"
  }
 },
 "nbformat": 4,
 "nbformat_minor": 4
}
